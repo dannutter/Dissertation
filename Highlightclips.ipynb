{
 "cells": [
  {
   "cell_type": "code",
   "execution_count": 743,
   "metadata": {},
   "outputs": [
    {
     "name": "stdout",
     "output_type": "stream",
     "text": [
      "Python version: 3.9.7 (default, Sep 16 2021, 16:59:28) [MSC v.1916 64 bit (AMD64)]\n",
      "pandas version: 1.3.4\n",
      "matplotlib version: 3.4.3\n",
      "NumPy version: 1.20.3\n",
      "SciPy version: 1.7.1\n",
      "IPython version: 7.29.0\n"
     ]
    }
   ],
   "source": [
    "import sys\n",
    "print(\"Python version:\", sys.version)\n",
    "\n",
    "import matplotlib.pyplot as plt\n",
    "\n",
    "import pandas as pd\n",
    "print(\"pandas version:\", pd.__version__)\n",
    "\n",
    "import matplotlib\n",
    "print(\"matplotlib version:\", matplotlib.__version__)\n",
    "\n",
    "import numpy as np\n",
    "print(\"NumPy version:\", np.__version__)\n",
    "\n",
    "import scipy as sp\n",
    "print(\"SciPy version:\", sp.__version__)\n",
    "\n",
    "import IPython\n",
    "print(\"IPython version:\", IPython.__version__)\n",
    "\n",
    "from deepface import DeepFace\n",
    "\n",
    "import vaderSentiment\n",
    "import math \n",
    "import json\n",
    "import os\n",
    "import cv2\n",
    "import tqdm.notebook as tqdm\n",
    "import subprocess\n",
    "from moviepy.editor import *\n",
    "import speech_recognition as sr\n",
    "\n"
   ]
  },
  {
   "cell_type": "code",
   "execution_count": null,
   "metadata": {},
   "outputs": [],
   "source": []
  },
  {
   "cell_type": "markdown",
   "metadata": {},
   "source": [
    "# Chat sentiment analysis\n"
   ]
  },
  {
   "cell_type": "code",
   "execution_count": 744,
   "metadata": {},
   "outputs": [],
   "source": [
    "from vaderSentiment.vaderSentiment import SentimentIntensityAnalyzer"
   ]
  },
  {
   "cell_type": "code",
   "execution_count": 745,
   "metadata": {},
   "outputs": [],
   "source": [
    "Analyser = SentimentIntensityAnalyzer() ##create analyser"
   ]
  },
  {
   "cell_type": "markdown",
   "metadata": {},
   "source": [
    "## Merge Top 100 Twitch emotes with sentiment into lexicon"
   ]
  },
  {
   "cell_type": "code",
   "execution_count": 746,
   "metadata": {},
   "outputs": [],
   "source": [
    "emotelex = pd.read_csv('emote_average.tsv',sep='\\t') ##read twitch emote tsv into dataframe\n",
    "emotelex['word'] = emotelex['word'].str.lower() ##lower case as it has to be to be inserted into lexicon\n",
    "emotedict = dict(zip(emotelex.word, emotelex.sentiment)) ##convert dataframe to dictionary \n",
    "emojilex = pd.read_csv('emoji_average.tsv',sep='\\t') ##read twitch emoji tsv into dataframe\n",
    "emojidict = dict(zip(emojilex.word, emojilex.sentiment)) ##convert dataframe to dictionary \n",
    "Analyser.lexicon.update(emotedict) ##merge lexicons together\n",
    "Analyser.lexicon.update(emojidict) ##merge lexicons together"
   ]
  },
  {
   "cell_type": "code",
   "execution_count": 747,
   "metadata": {},
   "outputs": [],
   "source": [
    "def pullClipChat(jsonFile):\n",
    "    data = json.load(open(jsonFile,encoding='utf-8'))\n",
    "    df = pd.DataFrame(data[\"comments\"])\n",
    "    d = {'message': pd.json_normalize(df.message).body, 'time':df.content_offset_seconds}\n",
    "    df = pd.DataFrame(data=d)\n",
    "    return df,data"
   ]
  },
  {
   "cell_type": "code",
   "execution_count": 748,
   "metadata": {},
   "outputs": [],
   "source": [
    "def getDuration(data,completedClipDict):\n",
    "    duration = data[\"video\"][\"end\"] -  data[\"video\"][\"start\"]\n",
    "    completedClipDict.update({\"duration\":duration})\n",
    "    return completedClipDict\n",
    "    "
   ]
  },
  {
   "cell_type": "code",
   "execution_count": 749,
   "metadata": {},
   "outputs": [],
   "source": [
    "def chatSentiment(df):\n",
    "    msgsentiment = []\n",
    "    neg = []\n",
    "    neu = []\n",
    "    pos = []\n",
    "    comp = []\n",
    "    for index, row in df.iterrows(): \n",
    "        msgsentiment.append(Analyser.polarity_scores(row['message']))    \n",
    "        neg.append(msgsentiment[index][\"neg\"])\n",
    "        neu.append(msgsentiment[index][\"neu\"])\n",
    "        pos.append(msgsentiment[index][\"pos\"])\n",
    "        comp.append(msgsentiment[index][\"compound\"])\n",
    "    df[\"neg\"] = neg\n",
    "    df[\"neu\"] = neu\n",
    "    df[\"pos\"] = pos\n",
    "    df[\"comp\"] = comp\n",
    "    return df"
   ]
  },
  {
   "cell_type": "code",
   "execution_count": 750,
   "metadata": {},
   "outputs": [],
   "source": [
    "def fillEmptyChat(df,data):\n",
    "    start = int(data[\"video\"][\"start\"]) ##fill rows where no messages have been sent in that time\n",
    "    end = int(data[\"video\"][\"end\"] + 1)\n",
    "    timecounter = 0\n",
    "    for i in range(start, end):\n",
    "        if df[\"time\"][timecounter] ==  i:\n",
    "            timecounter = timecounter + 1\n",
    "        else:\n",
    "            df = df.append({\"message\":\"\",\"time\":i,\"neg\":0,\"neu\":0,\"pos\":0,\"comp\":0}, ignore_index=True)\n",
    "    return df"
   ]
  },
  {
   "cell_type": "code",
   "execution_count": 751,
   "metadata": {},
   "outputs": [],
   "source": [
    "def addResults(row,cumResults):\n",
    "    cumResults[0] = cumResults[0] + row[2]\n",
    "    cumResults[1] = cumResults[1] + row[3]\n",
    "    cumResults[2] = cumResults[2] + row[4]\n",
    "    cumResults[3] = cumResults[3] + row[5]\n",
    "    "
   ]
  },
  {
   "cell_type": "code",
   "execution_count": 752,
   "metadata": {},
   "outputs": [],
   "source": [
    "def cumulativeGenerate(df):\n",
    "    cumulativedf = pd.DataFrame(columns=[\"time\",\"count\",\"neg\",\"neu\",\"pos\",\"comp\"])\n",
    "    cumResults = [0,0,0,0]\n",
    "    currentTime = df[\"time\"][0]\n",
    "    count=0\n",
    "    df = df.sort_values(by=[\"time\"])\n",
    "    for index, row in df.iterrows(): \n",
    "        if currentTime == row[\"time\"]:\n",
    "            count = count + 1\n",
    "            addResults(row,cumResults)\n",
    "        else:\n",
    "            cumulativedf = cumulativedf.append({\"time\":currentTime,\"count\":count,\"neg\":cumResults[0],\"neu\":cumResults[1],\"pos\":cumResults[2],\"comp\":cumResults[3]}, ignore_index=True)\n",
    "            currentTime = row[\"time\"]\n",
    "            cumResults = [0,0,0,0]\n",
    "            if row[\"message\"] == '':\n",
    "                count = 0\n",
    "            else:\n",
    "                 count = 1\n",
    "            addResults(row,cumResults)\n",
    "    cumulativedf = cumulativedf.drop(0) \n",
    "    return cumulativedf"
   ]
  },
  {
   "cell_type": "code",
   "execution_count": null,
   "metadata": {},
   "outputs": [],
   "source": []
  },
  {
   "cell_type": "code",
   "execution_count": 753,
   "metadata": {},
   "outputs": [],
   "source": [
    "def percentageCount(buffer):\n",
    "    buffer[\"count\"] = buffer[\"count\"]/(buffer[\"count\"].sum())\n",
    "    return buffer"
   ]
  },
  {
   "cell_type": "code",
   "execution_count": 754,
   "metadata": {},
   "outputs": [],
   "source": [
    "def cumulativeDivision(cumulativedf):\n",
    "    dflen = len(cumulativedf.index)\n",
    "    division = math.ceil(dflen/10)\n",
    "    dividedChatSent = cumulativedf.drop(columns = 'time')\n",
    "    completedClipDict = {}\n",
    "    for i in range(1, 11):\n",
    "        newkey = {'count':'count'+str(i),'neg':'neg'+str(i),'neu':'neu'+str(i),'pos':'pos'+str(i),'comp':'comp'+str(i)}\n",
    "        x = (i-1)*division\n",
    "        y = i*division\n",
    "        if y>dflen:\n",
    "            division = dflen % division \n",
    "            print(y,' split ', division,' split e',dflen)\n",
    "        total = dividedChatSent.iloc[x:y].sum()\n",
    "        buffer = total[\"count\"]\n",
    "        total = total.divide(division)\n",
    "        total['count'] = buffer\n",
    "        totaldict = total.to_dict()\n",
    "        completedClipDict.update(dict((newkey[key], value) for (key, value) in totaldict.items()))\n",
    "    print(completedClipDict)\n",
    "    return completedClipDict"
   ]
  },
  {
   "cell_type": "code",
   "execution_count": 755,
   "metadata": {},
   "outputs": [],
   "source": [
    "def emotionDetection(clipPath):\n",
    "    faceEmotionDf = pd.DataFrame(columns=[\"angry\",\"disgust\",\"fear\",\"happy\",\"sad\",\"surprise\",\"neutral\"])\n",
    "    capClip = cv2.VideoCapture(clipPath)\n",
    "    totalFrames = int(capClip.get(cv2.CAP_PROP_FRAME_COUNT))\n",
    "    fps = int(capClip.get(cv2.CAP_PROP_FPS))\n",
    "    for frame in range(totalFrames):\n",
    "        success, image = capClip.read()\n",
    "        if success == False:\n",
    "            break\n",
    "        if frame % fps == 0:\n",
    "            emotionStat = DeepFace.analyze(img_path = image, actions = ['emotion'],enforce_detection = False)\n",
    "            faceEmotionDf = faceEmotionDf.append(emotionStat[0][\"emotion\"],ignore_index=True)\n",
    "    return faceEmotionDf"
   ]
  },
  {
   "cell_type": "code",
   "execution_count": 756,
   "metadata": {},
   "outputs": [],
   "source": [
    "def emotionDivision(faceEmotionDf,completedClipDict):\n",
    "    dflen = len(faceEmotionDf.index)\n",
    "    division = math.ceil(dflen/10)\n",
    "    count=0\n",
    "    for i in range(1, 11):\n",
    "        newkey = {'angry':'angry'+str(i),'disgust':'disgust'+str(i),'fear':'fear'+str(i),'happy':'happy'+str(i),'sad':'sad'+str(i),'surprise':'surprise'+str(i),'neutral':'neutral'+str(i)}\n",
    "        x = (i-1)*division\n",
    "        y = i*division\n",
    "        if y>dflen:\n",
    "            division = dflen % division \n",
    "            print(y,' split ', division,' split ',dflen)\n",
    "        total = faceEmotionDf.iloc[x:y].sum()\n",
    "        total = total.divide(division)\n",
    "        totaldict = total.to_dict()\n",
    "        completedClipDict.update(dict((newkey[key], value) for (key, value) in totaldict.items()))\n",
    "    return completedClipDict\n",
    "    \n"
   ]
  },
  {
   "cell_type": "code",
   "execution_count": 757,
   "metadata": {},
   "outputs": [],
   "source": [
    "def audioSentiment(completedClipDict,clipPath):\n",
    "    audioclip = AudioFileClip(clipPath)\n",
    "    r = sr.Recognizer()\n",
    "    audioclip.write_audiofile(\"testclip.wav\")\n",
    "    with sr.AudioFile(\"testclip.wav\") as source:\n",
    "        audioRecogonizer = r.record(source)\n",
    "    speechTranscript = r.recognize_google(audioRecogonizer)\n",
    "    speechPolarity=(Analyser.polarity_scores(speechTranscript))\n",
    "    completedClipDict.update(speechPolarity)\n",
    "    return completedClipDict"
   ]
  },
  {
   "cell_type": "code",
   "execution_count": null,
   "metadata": {
    "scrolled": true
   },
   "outputs": [],
   "source": []
  },
  {
   "cell_type": "code",
   "execution_count": 758,
   "metadata": {
    "scrolled": true
   },
   "outputs": [
    {
     "name": "stdout",
     "output_type": "stream",
     "text": [
      "                                               message     time    neg    neu  \\\n",
      "0                                             ????????  18005.0  0.000  1.000   \n",
      "1                                               no way  18005.0  0.688  0.312   \n",
      "2                                                  omg  18006.0  0.000  1.000   \n",
      "3                                        ?????????????  18006.0  0.000  1.000   \n",
      "4    @TRIPS_ENDING nah this guy said he is new to p...  18006.0  0.135  0.865   \n",
      "..                                                 ...      ...    ...    ...   \n",
      "158                                  l000000000000000l  18037.0  0.000  1.000   \n",
      "159                                       CLIP IT KEKW  18037.0  0.000  1.000   \n",
      "160                                           WAITTTTT  18037.0  0.000  1.000   \n",
      "161                                          ?????????  18037.0  0.000  1.000   \n",
      "162        omg! omg! no way! taht huge! thats massive!  18038.0  0.189  0.514   \n",
      "\n",
      "       pos    comp  \n",
      "0    0.000  0.0000  \n",
      "1    0.000 -0.2960  \n",
      "2    0.000  0.0000  \n",
      "3    0.000  0.0000  \n",
      "4    0.000 -0.1027  \n",
      "..     ...     ...  \n",
      "158  0.000  0.0000  \n",
      "159  0.000  0.0000  \n",
      "160  0.000  0.0000  \n",
      "161  0.000  0.0000  \n",
      "162  0.297  0.3111  \n",
      "\n",
      "[163 rows x 6 columns]\n",
      "       time  count    neg     neu    pos    comp\n",
      "1   18000.0    0.0  0.000   0.000  0.000  0.0000\n",
      "2   18001.0    0.0  0.000   0.000  0.000  0.0000\n",
      "3   18002.0    0.0  0.000   0.000  0.000  0.0000\n",
      "4   18003.0    0.0  0.000   0.000  0.000  0.0000\n",
      "5   18004.0    0.0  0.000   0.000  0.000  0.0000\n",
      "6   18005.0    2.0  0.688   1.312  0.000 -0.2960\n",
      "7   18006.0    5.0  0.135   3.177  0.688  0.1933\n",
      "8   18007.0    4.0  0.000   2.000  1.000  0.2960\n",
      "9   18008.0    2.0  0.000   1.000  0.000  0.0000\n",
      "10  18009.0    4.0  0.000   1.441  1.559  0.8819\n",
      "11  18010.0    3.0  0.000   2.000  0.000  0.0000\n",
      "12  18011.0    3.0  0.000   2.000  0.000  0.0000\n",
      "13  18012.0    3.0  0.000   2.000  1.000  0.2960\n",
      "14  18013.0    2.0  0.688   1.312  0.000 -0.2960\n",
      "15  18014.0    0.0  0.000   0.000  0.000  0.0000\n",
      "16  18015.0    4.0  0.441   2.259  0.300 -0.2702\n",
      "17  18016.0    2.0  0.000   2.000  0.000  0.0000\n",
      "18  18017.0    1.0  0.000   1.000  0.000  0.0000\n",
      "19  18018.0    3.0  1.000   1.000  0.000 -0.5859\n",
      "20  18019.0    4.0  0.000   3.000  0.000  0.0000\n",
      "21  18020.0    0.0  0.000   0.000  0.000  0.0000\n",
      "22  18021.0    3.0  1.193   0.807  0.000 -1.0123\n",
      "23  18022.0    0.0  0.000   0.000  0.000  0.0000\n",
      "24  18023.0    0.0  0.000   0.000  0.000  0.0000\n",
      "25  18024.0    0.0  0.000   0.000  0.000  0.0000\n",
      "26  18025.0    0.0  0.000   0.000  0.000  0.0000\n",
      "27  18026.0    3.0  1.000   1.000  1.000 -0.4105\n",
      "28  18027.0    7.0  0.000   6.000  1.000  0.1103\n",
      "29  18028.0   16.0  0.000  11.000  4.000  1.9847\n",
      "30  18029.0   15.0  0.688  10.312  4.000  1.1160\n",
      "31  18030.0    4.0  0.000   4.000  0.000  0.0000\n",
      "32  18031.0   12.0  3.376   6.624  1.000 -1.1145\n",
      "33  18032.0   10.0  1.688   7.312  0.000 -0.8819\n",
      "34  18033.0   15.0  2.000  13.000  0.000 -0.6886\n",
      "35  18034.0   15.0  2.424  11.576  0.000 -1.3003\n",
      "36  18035.0   10.0  1.212   7.788  0.000 -0.5920\n",
      "37  18036.0   15.0  4.130   9.446  1.424 -2.0021\n",
      "38  18037.0   11.0  1.000   9.000  0.000 -0.5859\n",
      "40  split  2  split e 38\n",
      "{'count1': 0.0, 'neg1': 0.0, 'neu1': 0.0, 'pos1': 0.0, 'comp1': 0.0, 'count2': 0.06179775280898876, 'neg2': 0.20575, 'neu2': 1.62225, 'pos2': 0.422, 'comp2': 0.04832499999999999, 'count3': 0.06741573033707865, 'neg3': 0.0, 'neu3': 1.61025, 'pos3': 0.38975000000000004, 'comp3': 0.22047499999999998, 'count4': 0.05056179775280899, 'neg4': 0.28225, 'neu4': 1.39275, 'pos4': 0.325, 'comp4': -0.06755, 'count5': 0.056179775280898875, 'neg5': 0.25, 'neu5': 1.75, 'pos5': 0.0, 'comp5': -0.146475, 'count6': 0.016853932584269662, 'neg6': 0.29825, 'neu6': 0.20174999999999998, 'pos6': 0.0, 'comp6': -0.253075, 'count7': 0.056179775280898875, 'neg7': 0.25, 'neu7': 1.75, 'pos7': 0.5, 'comp7': -0.07504999999999999, 'count8': 0.2640449438202247, 'neg8': 1.0159999999999998, 'neu8': 7.984, 'pos8': 2.25, 'comp8': 0.49655000000000005, 'count9': 0.2808988764044944, 'neg9': 1.831, 'neu9': 9.918999999999999, 'pos9': 0.0, 'comp9': -0.8657, 'count10': 0.14606741573033707, 'neg10': 2.565, 'neu10': 9.222999999999999, 'pos10': 0.712, 'comp10': -1.294}\n"
     ]
    },
    {
     "name": "stderr",
     "output_type": "stream",
     "text": [
      "Action: emotion: 100%|███████████████████████████████████████████████████████████████████| 1/1 [00:00<00:00, 15.62it/s]\n",
      "Action: emotion: 100%|███████████████████████████████████████████████████████████████████| 1/1 [00:00<00:00, 26.32it/s]\n",
      "Action: emotion: 100%|███████████████████████████████████████████████████████████████████| 1/1 [00:00<00:00, 27.03it/s]\n",
      "Action: emotion: 100%|███████████████████████████████████████████████████████████████████| 1/1 [00:00<00:00, 26.31it/s]\n",
      "Action: emotion: 100%|███████████████████████████████████████████████████████████████████| 1/1 [00:00<00:00, 28.57it/s]\n",
      "Action: emotion: 100%|███████████████████████████████████████████████████████████████████| 1/1 [00:00<00:00, 27.78it/s]\n",
      "Action: emotion: 100%|███████████████████████████████████████████████████████████████████| 1/1 [00:00<00:00, 27.78it/s]\n",
      "Action: emotion: 100%|███████████████████████████████████████████████████████████████████| 1/1 [00:00<00:00, 25.00it/s]\n",
      "Action: emotion: 100%|███████████████████████████████████████████████████████████████████| 1/1 [00:00<00:00, 25.64it/s]\n",
      "Action: emotion: 100%|███████████████████████████████████████████████████████████████████| 1/1 [00:00<00:00, 30.30it/s]\n",
      "Action: emotion: 100%|███████████████████████████████████████████████████████████████████| 1/1 [00:00<00:00, 29.41it/s]\n",
      "Action: emotion: 100%|███████████████████████████████████████████████████████████████████| 1/1 [00:00<00:00, 29.41it/s]\n",
      "Action: emotion: 100%|███████████████████████████████████████████████████████████████████| 1/1 [00:00<00:00, 27.78it/s]\n",
      "Action: emotion: 100%|███████████████████████████████████████████████████████████████████| 1/1 [00:00<00:00, 29.41it/s]\n",
      "Action: emotion: 100%|███████████████████████████████████████████████████████████████████| 1/1 [00:00<00:00, 28.57it/s]\n",
      "Action: emotion: 100%|███████████████████████████████████████████████████████████████████| 1/1 [00:00<00:00, 29.41it/s]\n",
      "Action: emotion: 100%|███████████████████████████████████████████████████████████████████| 1/1 [00:00<00:00, 25.00it/s]\n",
      "Action: emotion: 100%|███████████████████████████████████████████████████████████████████| 1/1 [00:00<00:00, 29.41it/s]\n",
      "Action: emotion: 100%|███████████████████████████████████████████████████████████████████| 1/1 [00:00<00:00, 27.03it/s]\n",
      "Action: emotion: 100%|███████████████████████████████████████████████████████████████████| 1/1 [00:00<00:00, 26.32it/s]\n",
      "Action: emotion: 100%|███████████████████████████████████████████████████████████████████| 1/1 [00:00<00:00, 26.32it/s]\n",
      "Action: emotion: 100%|███████████████████████████████████████████████████████████████████| 1/1 [00:00<00:00, 26.32it/s]\n",
      "Action: emotion: 100%|███████████████████████████████████████████████████████████████████| 1/1 [00:00<00:00, 25.64it/s]\n",
      "Action: emotion: 100%|███████████████████████████████████████████████████████████████████| 1/1 [00:00<00:00, 25.64it/s]\n",
      "Action: emotion: 100%|███████████████████████████████████████████████████████████████████| 1/1 [00:00<00:00, 27.78it/s]\n",
      "Action: emotion: 100%|███████████████████████████████████████████████████████████████████| 1/1 [00:00<00:00, 26.32it/s]\n",
      "Action: emotion: 100%|███████████████████████████████████████████████████████████████████| 1/1 [00:00<00:00, 29.41it/s]\n",
      "Action: emotion: 100%|███████████████████████████████████████████████████████████████████| 1/1 [00:00<00:00, 28.57it/s]\n",
      "Action: emotion: 100%|███████████████████████████████████████████████████████████████████| 1/1 [00:00<00:00, 29.41it/s]\n",
      "Action: emotion: 100%|███████████████████████████████████████████████████████████████████| 1/1 [00:00<00:00, 29.41it/s]\n",
      "Action: emotion: 100%|███████████████████████████████████████████████████████████████████| 1/1 [00:00<00:00, 30.30it/s]\n",
      "Action: emotion: 100%|███████████████████████████████████████████████████████████████████| 1/1 [00:00<00:00, 29.41it/s]\n",
      "Action: emotion: 100%|███████████████████████████████████████████████████████████████████| 1/1 [00:00<00:00, 28.57it/s]\n",
      "Action: emotion: 100%|███████████████████████████████████████████████████████████████████| 1/1 [00:00<00:00, 26.32it/s]\n",
      "Action: emotion: 100%|███████████████████████████████████████████████████████████████████| 1/1 [00:00<00:00, 29.41it/s]\n",
      "Action: emotion: 100%|███████████████████████████████████████████████████████████████████| 1/1 [00:00<00:00, 29.41it/s]\n",
      "Action: emotion: 100%|███████████████████████████████████████████████████████████████████| 1/1 [00:00<00:00, 28.57it/s]\n",
      "Action: emotion: 100%|███████████████████████████████████████████████████████████████████| 1/1 [00:00<00:00, 29.41it/s]\n",
      "Action: emotion: 100%|███████████████████████████████████████████████████████████████████| 1/1 [00:00<00:00, 27.78it/s]\n",
      "Action: emotion: 100%|███████████████████████████████████████████████████████████████████| 1/1 [00:00<00:00, 28.57it/s]\n",
      "Action: emotion: 100%|███████████████████████████████████████████████████████████████████| 1/1 [00:00<00:00, 29.41it/s]\n",
      "Action: emotion: 100%|███████████████████████████████████████████████████████████████████| 1/1 [00:00<00:00, 29.41it/s]\n",
      "Action: emotion: 100%|███████████████████████████████████████████████████████████████████| 1/1 [00:00<00:00, 27.03it/s]\n",
      "Action: emotion: 100%|███████████████████████████████████████████████████████████████████| 1/1 [00:00<00:00, 28.57it/s]\n",
      "Action: emotion: 100%|███████████████████████████████████████████████████████████████████| 1/1 [00:00<00:00, 26.32it/s]\n",
      "Action: emotion: 100%|███████████████████████████████████████████████████████████████████| 1/1 [00:00<00:00, 27.78it/s]\n",
      "Action: emotion: 100%|███████████████████████████████████████████████████████████████████| 1/1 [00:00<00:00, 29.41it/s]\n",
      "Action: emotion: 100%|███████████████████████████████████████████████████████████████████| 1/1 [00:00<00:00, 28.57it/s]\n",
      "Action: emotion: 100%|███████████████████████████████████████████████████████████████████| 1/1 [00:00<00:00, 28.57it/s]\n",
      "Action: emotion: 100%|███████████████████████████████████████████████████████████████████| 1/1 [00:00<00:00, 29.41it/s]\n",
      "Action: emotion: 100%|███████████████████████████████████████████████████████████████████| 1/1 [00:00<00:00, 26.32it/s]\n",
      "Action: emotion: 100%|███████████████████████████████████████████████████████████████████| 1/1 [00:00<00:00, 27.78it/s]\n",
      "Action: emotion: 100%|███████████████████████████████████████████████████████████████████| 1/1 [00:00<00:00, 29.41it/s]\n"
     ]
    },
    {
     "name": "stdout",
     "output_type": "stream",
     "text": [
      "40  split  3  split  39\n",
      "MoviePy - Writing audio in testclip.wav\n"
     ]
    },
    {
     "name": "stderr",
     "output_type": "stream",
     "text": [
      "                                                                                                                       \r"
     ]
    },
    {
     "name": "stdout",
     "output_type": "stream",
     "text": [
      "MoviePy - Done.\n",
      "result2:\n",
      "{   'alternative': [   {   'confidence': 0.9406718,\n",
      "                           'transcript': 'how has he just survived that I I '\n",
      "                                         \"don't know I really don't know I'm \"\n",
      "                                         'not sure spec when I mean yeah '\n",
      "                                         'obviously looking at hindsight I '\n",
      "                                         \"should that respect it's all good \"\n",
      "                                         \"though cos you're like in this \"\n",
      "                                         'world'},\n",
      "                       {   'transcript': 'how has he just survive that I I '\n",
      "                                         \"don't know I really don't know I'm \"\n",
      "                                         'not sure spec when I mean yeah '\n",
      "                                         'obviously looking at hindsight I '\n",
      "                                         \"should that respect it's all good \"\n",
      "                                         'jokes is it like in this world'},\n",
      "                       {   'transcript': 'how has he just survived that I I '\n",
      "                                         \"don't I I really don't know I'm not \"\n",
      "                                         'sure spec when I mean yeah obviously '\n",
      "                                         'looking at hindsight I should that '\n",
      "                                         \"respect it's all good though cos \"\n",
      "                                         \"you're like in this world\"},\n",
      "                       {   'transcript': 'how has he just survive that I I '\n",
      "                                         \"don't I I really don't know I'm not \"\n",
      "                                         'sure spec when I mean yeah obviously '\n",
      "                                         'looking at hindsight I should that '\n",
      "                                         \"respect it's all good jokes is it \"\n",
      "                                         'like in this world'},\n",
      "                       {   'transcript': 'how has he just survive that I I '\n",
      "                                         \"don't know I really don't know I'm \"\n",
      "                                         'not sure spec when I mean yeah '\n",
      "                                         'obviously looking at hindsight I '\n",
      "                                         \"should that respect it's all good \"\n",
      "                                         \"though cos you're like in this \"\n",
      "                                         'world'}],\n",
      "    'final': True}\n"
     ]
    }
   ],
   "source": [
    "# assign directory\n",
    "directory = './Clips'\n",
    "for filename in os.listdir(directory):\n",
    "    f = os.path.join(directory, filename)\n",
    "    # checking if it is a file\n",
    "    if os.path.isfile(f):\n",
    "        if f.endswith('.mp4'):\n",
    "            clipPath = f\n",
    "            df,data = pullClipChat(f[:-3]+'json')\n",
    "            df = chatSentiment(df)\n",
    "            df = fillEmptyChat(df,data)\n",
    "            df = cumulativeGenerate(df)\n",
    "            df = percentageCount(df)\n",
    "            completedClipDict = cumulativeDivision(df)\n",
    "            faceEmotionDf = emotionDetection(clipPath)\n",
    "            completedClipDict = emotionDivision(faceEmotionDf,completedClipDict)\n",
    "            completedClipDict = audioSentiment(completedClipDict,clipPath)\n",
    "            duration = getDuration(data,completedClipDict)"
   ]
  },
  {
   "cell_type": "code",
   "execution_count": 759,
   "metadata": {},
   "outputs": [
    {
     "data": {
      "text/plain": [
       "{'count1': 0.0,\n",
       " 'neg1': 0.0,\n",
       " 'neu1': 0.0,\n",
       " 'pos1': 0.0,\n",
       " 'comp1': 0.0,\n",
       " 'count2': 0.06179775280898876,\n",
       " 'neg2': 0.20575,\n",
       " 'neu2': 1.62225,\n",
       " 'pos2': 0.422,\n",
       " 'comp2': 0.04832499999999999,\n",
       " 'count3': 0.06741573033707865,\n",
       " 'neg3': 0.0,\n",
       " 'neu3': 1.61025,\n",
       " 'pos3': 0.38975000000000004,\n",
       " 'comp3': 0.22047499999999998,\n",
       " 'count4': 0.05056179775280899,\n",
       " 'neg4': 0.28225,\n",
       " 'neu4': 1.39275,\n",
       " 'pos4': 0.325,\n",
       " 'comp4': -0.06755,\n",
       " 'count5': 0.056179775280898875,\n",
       " 'neg5': 0.25,\n",
       " 'neu5': 1.75,\n",
       " 'pos5': 0.0,\n",
       " 'comp5': -0.146475,\n",
       " 'count6': 0.016853932584269662,\n",
       " 'neg6': 0.29825,\n",
       " 'neu6': 0.20174999999999998,\n",
       " 'pos6': 0.0,\n",
       " 'comp6': -0.253075,\n",
       " 'count7': 0.056179775280898875,\n",
       " 'neg7': 0.25,\n",
       " 'neu7': 1.75,\n",
       " 'pos7': 0.5,\n",
       " 'comp7': -0.07504999999999999,\n",
       " 'count8': 0.2640449438202247,\n",
       " 'neg8': 1.0159999999999998,\n",
       " 'neu8': 7.984,\n",
       " 'pos8': 2.25,\n",
       " 'comp8': 0.49655000000000005,\n",
       " 'count9': 0.2808988764044944,\n",
       " 'neg9': 1.831,\n",
       " 'neu9': 9.918999999999999,\n",
       " 'pos9': 0.0,\n",
       " 'comp9': -0.8657,\n",
       " 'count10': 0.14606741573033707,\n",
       " 'neg10': 2.565,\n",
       " 'neu10': 9.222999999999999,\n",
       " 'pos10': 0.712,\n",
       " 'comp10': -1.294,\n",
       " 'angry1': 0.4964366349570161,\n",
       " 'disgust1': 9.735439382800328e-05,\n",
       " 'fear1': 70.97168018689015,\n",
       " 'happy1': 0.07263145645487713,\n",
       " 'sad1': 5.022500708325454,\n",
       " 'surprise1': 0.0009992866561790836,\n",
       " 'neutral1': 23.435651545401782,\n",
       " 'angry2': 0.005016884472735534,\n",
       " 'disgust2': 1.4630189237944283e-06,\n",
       " 'fear2': 21.94425824449253,\n",
       " 'happy2': 72.23908923489,\n",
       " 'sad2': 3.112588739331834,\n",
       " 'surprise2': 2.6637610048162492,\n",
       " 'neutral2': 0.03528583483016538,\n",
       " 'angry3': 24.792462848205332,\n",
       " 'disgust3': 3.5496326520551716e-06,\n",
       " 'fear3': 0.2799167867997512,\n",
       " 'happy3': 73.5830992499709,\n",
       " 'sad3': 0.030112627520836606,\n",
       " 'surprise3': 1.0432379358501682,\n",
       " 'neutral3': 0.2711670958836023,\n",
       " 'angry4': 43.372602904727486,\n",
       " 'disgust4': 0.00011054518022290888,\n",
       " 'fear4': 1.1308487254899127,\n",
       " 'happy4': 37.41798049073277,\n",
       " 'sad4': 17.61153245517752,\n",
       " 'surprise4': 0.005122172767844486,\n",
       " 'neutral4': 0.4618015602395441,\n",
       " 'angry5': 32.04414435456778,\n",
       " 'disgust5': 1.7361405023584784,\n",
       " 'fear5': 1.2513190807249455,\n",
       " 'happy5': 32.20950213739725,\n",
       " 'sad5': 20.108765456438835,\n",
       " 'surprise5': 0.026642378722582877,\n",
       " 'neutral5': 12.623485350886682,\n",
       " 'angry6': 25.27856781471827,\n",
       " 'disgust6': 0.005634168816245078,\n",
       " 'fear6': 20.396631709440886,\n",
       " 'happy6': 26.02806102356122,\n",
       " 'sad6': 6.078061820955394,\n",
       " 'surprise6': 0.38176301862231876,\n",
       " 'neutral6': 21.831280354431996,\n",
       " 'angry7': 1.2547634367983123,\n",
       " 'disgust7': 0.0019878963257729423,\n",
       " 'fear7': 24.129924984187365,\n",
       " 'happy7': 1.5413949266677451,\n",
       " 'sad7': 28.664210711153544,\n",
       " 'surprise7': 25.03039582644653,\n",
       " 'neutral7': 19.377322870367806,\n",
       " 'angry8': 0.43043582857127993,\n",
       " 'disgust8': 0.00032169934140625705,\n",
       " 'fear8': 35.90172957924533,\n",
       " 'happy8': 1.117941817964067,\n",
       " 'sad8': 4.436438035871692,\n",
       " 'surprise8': 0.30187284232475275,\n",
       " 'neutral8': 57.81126241797575,\n",
       " 'angry9': 0.2837136159321552,\n",
       " 'disgust9': 0.0003477583569166661,\n",
       " 'fear9': 25.3363068841498,\n",
       " 'happy9': 0.06467011111238657,\n",
       " 'sad9': 24.075090175016076,\n",
       " 'surprise9': 49.77339828762065,\n",
       " 'neutral9': 0.46647319542642507,\n",
       " 'angry10': 0.013034785628060088,\n",
       " 'disgust10': 4.293907582804539e-06,\n",
       " 'fear10': 0.789488667828581,\n",
       " 'happy10': 0.15020159120830676,\n",
       " 'sad10': 78.62110734048701,\n",
       " 'surprise10': 0.0022949016816836217,\n",
       " 'neutral10': 20.42387116354188,\n",
       " 'neg': 0.039,\n",
       " 'neu': 0.681,\n",
       " 'pos': 0.28,\n",
       " 'compound': 0.9009,\n",
       " 'duration': 38.0}"
      ]
     },
     "execution_count": 759,
     "metadata": {},
     "output_type": "execute_result"
    }
   ],
   "source": [
    "duration"
   ]
  },
  {
   "cell_type": "code",
   "execution_count": 760,
   "metadata": {},
   "outputs": [
    {
     "name": "stdout",
     "output_type": "stream",
     "text": [
      "{'count1': 0.0, 'neg1': 0.0, 'neu1': 0.0, 'pos1': 0.0, 'comp1': 0.0, 'count2': 0.06179775280898876, 'neg2': 0.20575, 'neu2': 1.62225, 'pos2': 0.422, 'comp2': 0.04832499999999999, 'count3': 0.06741573033707865, 'neg3': 0.0, 'neu3': 1.61025, 'pos3': 0.38975000000000004, 'comp3': 0.22047499999999998, 'count4': 0.05056179775280899, 'neg4': 0.28225, 'neu4': 1.39275, 'pos4': 0.325, 'comp4': -0.06755, 'count5': 0.056179775280898875, 'neg5': 0.25, 'neu5': 1.75, 'pos5': 0.0, 'comp5': -0.146475, 'count6': 0.016853932584269662, 'neg6': 0.29825, 'neu6': 0.20174999999999998, 'pos6': 0.0, 'comp6': -0.253075, 'count7': 0.056179775280898875, 'neg7': 0.25, 'neu7': 1.75, 'pos7': 0.5, 'comp7': -0.07504999999999999, 'count8': 0.2640449438202247, 'neg8': 1.0159999999999998, 'neu8': 7.984, 'pos8': 2.25, 'comp8': 0.49655000000000005, 'count9': 0.2808988764044944, 'neg9': 1.831, 'neu9': 9.918999999999999, 'pos9': 0.0, 'comp9': -0.8657, 'count10': 0.14606741573033707, 'neg10': 2.565, 'neu10': 9.222999999999999, 'pos10': 0.712, 'comp10': -1.294, 'angry1': 0.4964366349570161, 'disgust1': 9.735439382800328e-05, 'fear1': 70.97168018689015, 'happy1': 0.07263145645487713, 'sad1': 5.022500708325454, 'surprise1': 0.0009992866561790836, 'neutral1': 23.435651545401782, 'angry2': 0.005016884472735534, 'disgust2': 1.4630189237944283e-06, 'fear2': 21.94425824449253, 'happy2': 72.23908923489, 'sad2': 3.112588739331834, 'surprise2': 2.6637610048162492, 'neutral2': 0.03528583483016538, 'angry3': 24.792462848205332, 'disgust3': 3.5496326520551716e-06, 'fear3': 0.2799167867997512, 'happy3': 73.5830992499709, 'sad3': 0.030112627520836606, 'surprise3': 1.0432379358501682, 'neutral3': 0.2711670958836023, 'angry4': 43.372602904727486, 'disgust4': 0.00011054518022290888, 'fear4': 1.1308487254899127, 'happy4': 37.41798049073277, 'sad4': 17.61153245517752, 'surprise4': 0.005122172767844486, 'neutral4': 0.4618015602395441, 'angry5': 32.04414435456778, 'disgust5': 1.7361405023584784, 'fear5': 1.2513190807249455, 'happy5': 32.20950213739725, 'sad5': 20.108765456438835, 'surprise5': 0.026642378722582877, 'neutral5': 12.623485350886682, 'angry6': 25.27856781471827, 'disgust6': 0.005634168816245078, 'fear6': 20.396631709440886, 'happy6': 26.02806102356122, 'sad6': 6.078061820955394, 'surprise6': 0.38176301862231876, 'neutral6': 21.831280354431996, 'angry7': 1.2547634367983123, 'disgust7': 0.0019878963257729423, 'fear7': 24.129924984187365, 'happy7': 1.5413949266677451, 'sad7': 28.664210711153544, 'surprise7': 25.03039582644653, 'neutral7': 19.377322870367806, 'angry8': 0.43043582857127993, 'disgust8': 0.00032169934140625705, 'fear8': 35.90172957924533, 'happy8': 1.117941817964067, 'sad8': 4.436438035871692, 'surprise8': 0.30187284232475275, 'neutral8': 57.81126241797575, 'angry9': 0.2837136159321552, 'disgust9': 0.0003477583569166661, 'fear9': 25.3363068841498, 'happy9': 0.06467011111238657, 'sad9': 24.075090175016076, 'surprise9': 49.77339828762065, 'neutral9': 0.46647319542642507, 'angry10': 0.013034785628060088, 'disgust10': 4.293907582804539e-06, 'fear10': 0.789488667828581, 'happy10': 0.15020159120830676, 'sad10': 78.62110734048701, 'surprise10': 0.0022949016816836217, 'neutral10': 20.42387116354188, 'neg': 0.039, 'neu': 0.681, 'pos': 0.28, 'compound': 0.9009, 'duration': 38.0}\n"
     ]
    }
   ],
   "source": [
    "print(completedClipDict)"
   ]
  },
  {
   "cell_type": "code",
   "execution_count": 761,
   "metadata": {},
   "outputs": [],
   "source": [
    "fDf = pd.DataFrame(completedClipDict,index=[0])"
   ]
  },
  {
   "cell_type": "code",
   "execution_count": 762,
   "metadata": {},
   "outputs": [
    {
     "data": {
      "text/html": [
       "<div>\n",
       "<style scoped>\n",
       "    .dataframe tbody tr th:only-of-type {\n",
       "        vertical-align: middle;\n",
       "    }\n",
       "\n",
       "    .dataframe tbody tr th {\n",
       "        vertical-align: top;\n",
       "    }\n",
       "\n",
       "    .dataframe thead th {\n",
       "        text-align: right;\n",
       "    }\n",
       "</style>\n",
       "<table border=\"1\" class=\"dataframe\">\n",
       "  <thead>\n",
       "    <tr style=\"text-align: right;\">\n",
       "      <th></th>\n",
       "      <th>count1</th>\n",
       "      <th>neg1</th>\n",
       "      <th>neu1</th>\n",
       "      <th>pos1</th>\n",
       "      <th>comp1</th>\n",
       "      <th>count2</th>\n",
       "      <th>neg2</th>\n",
       "      <th>neu2</th>\n",
       "      <th>pos2</th>\n",
       "      <th>comp2</th>\n",
       "      <th>...</th>\n",
       "      <th>fear10</th>\n",
       "      <th>happy10</th>\n",
       "      <th>sad10</th>\n",
       "      <th>surprise10</th>\n",
       "      <th>neutral10</th>\n",
       "      <th>neg</th>\n",
       "      <th>neu</th>\n",
       "      <th>pos</th>\n",
       "      <th>compound</th>\n",
       "      <th>duration</th>\n",
       "    </tr>\n",
       "  </thead>\n",
       "  <tbody>\n",
       "    <tr>\n",
       "      <th>0</th>\n",
       "      <td>0.0</td>\n",
       "      <td>0.0</td>\n",
       "      <td>0.0</td>\n",
       "      <td>0.0</td>\n",
       "      <td>0.0</td>\n",
       "      <td>0.061798</td>\n",
       "      <td>0.20575</td>\n",
       "      <td>1.62225</td>\n",
       "      <td>0.422</td>\n",
       "      <td>0.048325</td>\n",
       "      <td>...</td>\n",
       "      <td>0.789489</td>\n",
       "      <td>0.150202</td>\n",
       "      <td>78.621107</td>\n",
       "      <td>0.002295</td>\n",
       "      <td>20.423871</td>\n",
       "      <td>0.039</td>\n",
       "      <td>0.681</td>\n",
       "      <td>0.28</td>\n",
       "      <td>0.9009</td>\n",
       "      <td>38.0</td>\n",
       "    </tr>\n",
       "  </tbody>\n",
       "</table>\n",
       "<p>1 rows × 125 columns</p>\n",
       "</div>"
      ],
      "text/plain": [
       "   count1  neg1  neu1  pos1  comp1    count2     neg2     neu2   pos2  \\\n",
       "0     0.0   0.0   0.0   0.0    0.0  0.061798  0.20575  1.62225  0.422   \n",
       "\n",
       "      comp2  ...    fear10   happy10      sad10  surprise10  neutral10    neg  \\\n",
       "0  0.048325  ...  0.789489  0.150202  78.621107    0.002295  20.423871  0.039   \n",
       "\n",
       "     neu   pos  compound  duration  \n",
       "0  0.681  0.28    0.9009      38.0  \n",
       "\n",
       "[1 rows x 125 columns]"
      ]
     },
     "execution_count": 762,
     "metadata": {},
     "output_type": "execute_result"
    }
   ],
   "source": [
    "fDf"
   ]
  },
  {
   "cell_type": "code",
   "execution_count": 763,
   "metadata": {},
   "outputs": [
    {
     "data": {
      "text/plain": [
       "'./Clips\\\\Clip1_3081.json'"
      ]
     },
     "execution_count": 763,
     "metadata": {},
     "output_type": "execute_result"
    }
   ],
   "source": [
    "\n",
    "f[:-3]+'json'"
   ]
  },
  {
   "cell_type": "code",
   "execution_count": null,
   "metadata": {},
   "outputs": [],
   "source": []
  },
  {
   "cell_type": "code",
   "execution_count": null,
   "metadata": {},
   "outputs": [],
   "source": []
  }
 ],
 "metadata": {
  "kernelspec": {
   "display_name": "Python 3 (ipykernel)",
   "language": "python",
   "name": "python3"
  },
  "language_info": {
   "codemirror_mode": {
    "name": "ipython",
    "version": 3
   },
   "file_extension": ".py",
   "mimetype": "text/x-python",
   "name": "python",
   "nbconvert_exporter": "python",
   "pygments_lexer": "ipython3",
   "version": "3.9.7"
  }
 },
 "nbformat": 4,
 "nbformat_minor": 2
}
