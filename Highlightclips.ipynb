{
 "cells": [
  {
   "cell_type": "code",
   "execution_count": 1,
   "metadata": {
    "scrolled": true
   },
   "outputs": [
    {
     "name": "stdout",
     "output_type": "stream",
     "text": [
      "Python version: 3.9.7 (default, Sep 16 2021, 16:59:28) [MSC v.1916 64 bit (AMD64)]\n",
      "pandas version: 1.3.4\n",
      "matplotlib version: 3.4.3\n",
      "NumPy version: 1.20.3\n",
      "SciPy version: 1.7.1\n",
      "IPython version: 7.29.0\n"
     ]
    }
   ],
   "source": [
    "import sys\n",
    "print(\"Python version:\", sys.version)\n",
    "\n",
    "import matplotlib.pyplot as plt\n",
    "\n",
    "import pandas as pd\n",
    "print(\"pandas version:\", pd.__version__)\n",
    "\n",
    "import matplotlib\n",
    "print(\"matplotlib version:\", matplotlib.__version__)\n",
    "\n",
    "import numpy as np\n",
    "print(\"NumPy version:\", np.__version__)\n",
    "\n",
    "import scipy as sp\n",
    "print(\"SciPy version:\", sp.__version__)\n",
    "\n",
    "import IPython\n",
    "print(\"IPython version:\", IPython.__version__)\n",
    "\n",
    "from deepface import DeepFace\n",
    "\n",
    "import soundfile as sf\n",
    "import pyloudnorm as pyln\n",
    "import seaborn as sns\n",
    "import vaderSentiment\n",
    "import math \n",
    "import json\n",
    "import os\n",
    "import cv2\n",
    "import tqdm.notebook as tqdm\n",
    "import subprocess\n",
    "from moviepy.editor import *\n",
    "import speech_recognition as sr\n",
    "\n"
   ]
  },
  {
   "cell_type": "code",
   "execution_count": null,
   "metadata": {
    "scrolled": true
   },
   "outputs": [],
   "source": []
  },
  {
   "cell_type": "markdown",
   "metadata": {},
   "source": [
    "# Chat sentiment analysis\n"
   ]
  },
  {
   "cell_type": "code",
   "execution_count": 2,
   "metadata": {
    "scrolled": true
   },
   "outputs": [],
   "source": [
    "from vaderSentiment.vaderSentiment import SentimentIntensityAnalyzer"
   ]
  },
  {
   "cell_type": "code",
   "execution_count": 3,
   "metadata": {
    "scrolled": true
   },
   "outputs": [],
   "source": [
    "Analyser = SentimentIntensityAnalyzer() ##create analyser"
   ]
  },
  {
   "cell_type": "markdown",
   "metadata": {},
   "source": [
    "## Merge Top 100 Twitch emotes with sentiment into lexicon"
   ]
  },
  {
   "cell_type": "code",
   "execution_count": 4,
   "metadata": {
    "scrolled": true
   },
   "outputs": [],
   "source": [
    "emotelex = pd.read_csv('emote_average.tsv',sep='\\t') ##read twitch emote tsv into dataframe\n",
    "emotelex['word'] = emotelex['word'].str.lower() ##lower case as it has to be to be inserted into lexicon\n",
    "emotedict = dict(zip(emotelex.word, emotelex.sentiment)) ##convert dataframe to dictionary \n",
    "emojilex = pd.read_csv('emoji_average.tsv',sep='\\t') ##read twitch emoji tsv into dataframe\n",
    "emojidict = dict(zip(emojilex.word, emojilex.sentiment)) ##convert dataframe to dictionary \n",
    "Analyser.lexicon.update(emotedict) ##merge lexicons together\n",
    "Analyser.lexicon.update(emojidict) ##merge lexicons together"
   ]
  },
  {
   "cell_type": "code",
   "execution_count": 5,
   "metadata": {
    "scrolled": true
   },
   "outputs": [],
   "source": [
    "def pullClipChat(jsonFile):\n",
    "    data = json.load(open(jsonFile,encoding='utf-8'))\n",
    "    df = pd.DataFrame(data[\"comments\"])\n",
    "    d = {'message': pd.json_normalize(df.message).body, 'time':df.content_offset_seconds}\n",
    "    df = pd.DataFrame(data=d)\n",
    "    return df,data"
   ]
  },
  {
   "cell_type": "code",
   "execution_count": 6,
   "metadata": {
    "scrolled": true
   },
   "outputs": [],
   "source": [
    "def getStreamData(data,completedClipDict,f):\n",
    "    duration = data[\"video\"][\"end\"] -  data[\"video\"][\"start\"]\n",
    "    views = int(f.split(\"_\")[1][:-4])\n",
    "    streamer = data[\"streamer\"][\"name\"]\n",
    "    completedClipDict.update({\"duration\":duration,\"streamer\":streamer,\"views\":views})\n",
    "    return completedClipDict\n",
    "    "
   ]
  },
  {
   "cell_type": "code",
   "execution_count": 7,
   "metadata": {
    "scrolled": true
   },
   "outputs": [],
   "source": [
    "def chatSentiment(df):\n",
    "    msgsentiment = []\n",
    "    neg = []\n",
    "    neu = []\n",
    "    pos = []\n",
    "    comp = []\n",
    "    for index, row in df.iterrows(): \n",
    "        msgsentiment.append(Analyser.polarity_scores(row['message']))    \n",
    "        neg.append(msgsentiment[index][\"neg\"])\n",
    "        neu.append(msgsentiment[index][\"neu\"])\n",
    "        pos.append(msgsentiment[index][\"pos\"])\n",
    "        comp.append(msgsentiment[index][\"compound\"])\n",
    "    df[\"neg\"] = neg\n",
    "    df[\"neu\"] = neu\n",
    "    df[\"pos\"] = pos\n",
    "    df[\"comp\"] = comp\n",
    "    return df"
   ]
  },
  {
   "cell_type": "code",
   "execution_count": 8,
   "metadata": {
    "scrolled": true
   },
   "outputs": [],
   "source": [
    "def fillEmptyChat(df,data):\n",
    "    start = int(data[\"video\"][\"start\"]) ##fill rows where no messages have been sent in that time\n",
    "    end = int(data[\"video\"][\"end\"] + 1)\n",
    "    timecounter = 0\n",
    "    for i in range(start, end):\n",
    "        if df[\"time\"][timecounter] ==  i:\n",
    "            timecounter = timecounter + 1\n",
    "        else:\n",
    "            df = df.append({\"message\":\"\",\"time\":i,\"neg\":0,\"neu\":0,\"pos\":0,\"comp\":0}, ignore_index=True)\n",
    "    return df"
   ]
  },
  {
   "cell_type": "code",
   "execution_count": 9,
   "metadata": {
    "scrolled": true
   },
   "outputs": [],
   "source": [
    "def addResults(row,cumResults):\n",
    "    cumResults[0] = cumResults[0] + row[2]\n",
    "    cumResults[1] = cumResults[1] + row[3]\n",
    "    cumResults[2] = cumResults[2] + row[4]\n",
    "    cumResults[3] = cumResults[3] + row[5]\n",
    "    "
   ]
  },
  {
   "cell_type": "code",
   "execution_count": 10,
   "metadata": {
    "scrolled": true
   },
   "outputs": [],
   "source": [
    "def cumulativeGenerate(df):\n",
    "    cumulativedf = pd.DataFrame(columns=[\"time\",\"count\",\"neg\",\"neu\",\"pos\",\"comp\"])\n",
    "    cumResults = [0,0,0,0]\n",
    "    currentTime = df[\"time\"][0]\n",
    "    count=0\n",
    "    df = df.sort_values(by=[\"time\"])\n",
    "    for index, row in df.iterrows(): \n",
    "        if currentTime == row[\"time\"]:\n",
    "            count = count + 1\n",
    "            addResults(row,cumResults)\n",
    "        else:\n",
    "            cumulativedf = cumulativedf.append({\"time\":currentTime,\"count\":count,\"neg\":cumResults[0],\"neu\":cumResults[1],\"pos\":cumResults[2],\"comp\":cumResults[3]}, ignore_index=True)\n",
    "            currentTime = row[\"time\"]\n",
    "            cumResults = [0,0,0,0]\n",
    "            if row[\"message\"] == '':\n",
    "                count = 0\n",
    "            else:\n",
    "                 count = 1\n",
    "            addResults(row,cumResults)\n",
    "    cumulativedf = cumulativedf.drop(0) \n",
    "    return cumulativedf"
   ]
  },
  {
   "cell_type": "code",
   "execution_count": null,
   "metadata": {
    "scrolled": true
   },
   "outputs": [],
   "source": []
  },
  {
   "cell_type": "code",
   "execution_count": 11,
   "metadata": {
    "scrolled": true
   },
   "outputs": [],
   "source": [
    "def percentageCount(buffer):\n",
    "    buffer[\"count\"] = buffer[\"count\"]/(buffer[\"count\"].sum())\n",
    "    return buffer"
   ]
  },
  {
   "cell_type": "code",
   "execution_count": 12,
   "metadata": {
    "scrolled": true
   },
   "outputs": [],
   "source": [
    "def cumulativeDivision(cumulativedf):\n",
    "    dflen = len(cumulativedf.index)\n",
    "    division = math.ceil(dflen/10)\n",
    "    dividedChatSent = cumulativedf.drop(columns = 'time')\n",
    "    completedClipDict = {}\n",
    "    for i in range(1, 11):\n",
    "        newkey = {'count':'count'+str(i),'neg':'neg'+str(i),'neu':'neu'+str(i),'pos':'pos'+str(i),'comp':'comp'+str(i)}\n",
    "        x = int((i-1)*division)\n",
    "        y = int(i*division)\n",
    "        total = dividedChatSent.iloc[x:y].sum()\n",
    "        buffer = total[\"count\"]\n",
    "        total = total.divide(division)\n",
    "        total['count'] = buffer\n",
    "        totaldict = total.to_dict()\n",
    "        completedClipDict.update(dict((newkey[key], value) for (key, value) in totaldict.items()))\n",
    "    print(completedClipDict)\n",
    "    return completedClipDict"
   ]
  },
  {
   "cell_type": "code",
   "execution_count": 13,
   "metadata": {
    "scrolled": true
   },
   "outputs": [],
   "source": [
    "def emotionDetection(clipPath):\n",
    "    faceEmotionDf = pd.DataFrame(columns=[\"angry\",\"disgust\",\"fear\",\"happy\",\"sad\",\"surprise\",\"neutral\"])\n",
    "    capClip = cv2.VideoCapture(clipPath)\n",
    "    totalFrames = int(capClip.get(cv2.CAP_PROP_FRAME_COUNT))\n",
    "    fps = int(capClip.get(cv2.CAP_PROP_FPS))\n",
    "    for frame in range(totalFrames):\n",
    "        success, image = capClip.read()\n",
    "        if success == False:\n",
    "            break\n",
    "        if frame % fps == 0:\n",
    "            emotionStat = DeepFace.analyze(img_path = image, actions = ['emotion'],enforce_detection = False)\n",
    "            faceEmotionDf = faceEmotionDf.append(emotionStat[0][\"emotion\"],ignore_index=True)\n",
    "    return faceEmotionDf"
   ]
  },
  {
   "cell_type": "code",
   "execution_count": 14,
   "metadata": {
    "scrolled": true
   },
   "outputs": [],
   "source": [
    "def emotionDivision(faceEmotionDf,completedClipDict):\n",
    "    dflen = len(faceEmotionDf.index)\n",
    "    division = dflen/10\n",
    "    count=0\n",
    "    for i in range(1, 11):\n",
    "        newkey = {'angry':'angry'+str(i),'disgust':'disgust'+str(i),'fear':'fear'+str(i),'happy':'happy'+str(i),'sad':'sad'+str(i),'surprise':'surprise'+str(i),'neutral':'neutral'+str(i)}\n",
    "        x = int((i-1)*division)\n",
    "        y = int(i*division)\n",
    "        total = faceEmotionDf.iloc[x:y].sum()\n",
    "        total = total.divide(division)\n",
    "        totaldict = total.to_dict()\n",
    "        completedClipDict.update(dict((newkey[key], value) for (key, value) in totaldict.items()))\n",
    "    return completedClipDict\n",
    "    \n"
   ]
  },
  {
   "cell_type": "code",
   "execution_count": 15,
   "metadata": {
    "scrolled": true
   },
   "outputs": [],
   "source": [
    "def audioSentiment(completedClipDict,clipPath):\n",
    "    audioclip = AudioFileClip(clipPath)\n",
    "    r = sr.Recognizer()\n",
    "    audioclip.write_audiofile(\"testclip.wav\")\n",
    "    with sr.AudioFile(\"testclip.wav\") as source:\n",
    "        audioRecogonizer = r.record(source)\n",
    "    speechTranscript = r.recognize_google(audioRecogonizer)\n",
    "    speechPolarity=(Analyser.polarity_scores(speechTranscript))\n",
    "    completedClipDict.update(speechPolarity)\n",
    "    return completedClipDict"
   ]
  },
  {
   "cell_type": "code",
   "execution_count": 16,
   "metadata": {
    "scrolled": false
   },
   "outputs": [],
   "source": [
    "def getLoudness(completedClipDict):\n",
    "    loudData, rate = sf.read(\"testclip.wav\") # load audio (with shape (samples, channels))\n",
    "    meter = pyln.Meter(rate) # create meter\n",
    "    loudness = meter.integrated_loudness(loudData) # measure loudness\n",
    "    completedClipDict.update({\"loudness\":loudness})\n",
    "    return completedClipDict"
   ]
  },
  {
   "cell_type": "code",
   "execution_count": null,
   "metadata": {
    "scrolled": false
   },
   "outputs": [
    {
     "name": "stdout",
     "output_type": "stream",
     "text": [
      "                  message     time    neg    neu    pos    comp\n",
      "0               Huge heal  19522.0  0.000  0.303  0.697  0.3182\n",
      "1             died again?  19522.0  0.783  0.217  0.000 -0.5574\n",
      "2                you suck  19523.0  0.744  0.256  0.000 -0.4404\n",
      "3                skillRip  19524.0  0.000  1.000  0.000  0.0000\n",
      "4                   LMFAO  19524.0  0.000  0.000  1.000  0.5423\n",
      "..                    ...      ...    ...    ...    ...     ...\n",
      "251              SIT KEKW  19570.0  0.000  1.000  0.000  0.0000\n",
      "252  looooooooooooooooool  19570.0  0.000  1.000  0.000  0.0000\n",
      "253                  sike  19571.0  0.000  1.000  0.000  0.0000\n",
      "254                   SIT  19571.0  0.000  1.000  0.000  0.0000\n",
      "255           LOOOOOOOOOL  19572.0  0.000  1.000  0.000  0.0000\n",
      "\n",
      "[256 rows x 6 columns]\n",
      "{'count1': 0.04255319148936171, 'neg1': 0.4211666666666667, 'neu1': 1.1293333333333333, 'pos1': 0.2828333333333333, 'comp1': -0.04421666666666666, 'count2': 0.1773049645390071, 'neg2': 0.7196666666666666, 'neu2': 5.461333333333333, 'pos2': 1.6523333333333332, 'comp2': 0.47551666666666664, 'count3': 0.23404255319148934, 'neg3': 0.5568333333333333, 'neu3': 8.218666666666666, 'pos3': 1.5578333333333332, 'comp3': 0.33816666666666667, 'count4': 0.17021276595744683, 'neg4': 1.1238333333333335, 'neu4': 6.042833333333333, 'pos4': 0.16666666666666666, 'comp4': -0.48146666666666665, 'count5': 0.11702127659574467, 'neg5': 0.5805, 'neu5': 3.539, 'pos5': 0.7138333333333332, 'comp5': 0.12586666666666665, 'count6': 0.08865248226950355, 'neg6': 0.4466666666666667, 'neu6': 2.379166666666667, 'pos6': 0.5075, 'comp6': 0.035066666666666656, 'count7': 0.08865248226950354, 'neg7': 0.6106666666666667, 'neu7': 1.8781666666666668, 'pos7': 1.1778333333333333, 'comp7': 0.6250833333333333, 'count8': 0.04609929078014185, 'neg8': 0.11433333333333334, 'neu8': 1.219, 'pos8': 0.6666666666666666, 'comp8': 0.20001666666666665, 'count9': 0.035460992907801414, 'neg9': 0.12966666666666668, 'neu9': 0.8703333333333333, 'pos9': 0.3333333333333333, 'comp9': 0.07751666666666666, 'count10': 0.0, 'neg10': 0.0, 'neu10': 0.0, 'pos10': 0.0, 'comp10': 0.0}\n"
     ]
    },
    {
     "name": "stderr",
     "output_type": "stream",
     "text": [
      "Action: emotion: 100%|███████████████████████████████████████████████████████████████████| 1/1 [00:00<00:00,  3.97it/s]\n",
      "Action: emotion: 100%|███████████████████████████████████████████████████████████████████| 1/1 [00:00<00:00, 31.25it/s]\n",
      "Action: emotion: 100%|███████████████████████████████████████████████████████████████████| 1/1 [00:00<00:00, 31.25it/s]\n",
      "Action: emotion: 100%|███████████████████████████████████████████████████████████████████| 1/1 [00:00<00:00, 30.30it/s]\n",
      "Action: emotion: 100%|███████████████████████████████████████████████████████████████████| 1/1 [00:00<00:00, 30.30it/s]\n",
      "Action: emotion: 100%|███████████████████████████████████████████████████████████████████| 1/1 [00:00<00:00, 29.41it/s]\n",
      "Action: emotion: 100%|███████████████████████████████████████████████████████████████████| 1/1 [00:00<00:00, 32.26it/s]\n",
      "Action: emotion: 100%|███████████████████████████████████████████████████████████████████| 1/1 [00:00<00:00, 29.41it/s]\n",
      "Action: emotion: 100%|███████████████████████████████████████████████████████████████████| 1/1 [00:00<00:00, 31.25it/s]\n",
      "Action: emotion: 100%|███████████████████████████████████████████████████████████████████| 1/1 [00:00<00:00, 30.30it/s]\n",
      "Action: emotion: 100%|███████████████████████████████████████████████████████████████████| 1/1 [00:00<00:00, 31.25it/s]\n",
      "Action: emotion: 100%|███████████████████████████████████████████████████████████████████| 1/1 [00:00<00:00, 29.41it/s]\n",
      "Action: emotion: 100%|███████████████████████████████████████████████████████████████████| 1/1 [00:00<00:00, 31.25it/s]\n",
      "Action: emotion: 100%|███████████████████████████████████████████████████████████████████| 1/1 [00:00<00:00, 31.25it/s]\n",
      "Action: emotion: 100%|███████████████████████████████████████████████████████████████████| 1/1 [00:00<00:00, 29.41it/s]\n",
      "Action: emotion: 100%|███████████████████████████████████████████████████████████████████| 1/1 [00:00<00:00, 30.30it/s]\n",
      "Action: emotion: 100%|███████████████████████████████████████████████████████████████████| 1/1 [00:00<00:00, 27.78it/s]\n",
      "Action: emotion: 100%|███████████████████████████████████████████████████████████████████| 1/1 [00:00<00:00, 31.25it/s]\n",
      "Action: emotion: 100%|███████████████████████████████████████████████████████████████████| 1/1 [00:00<00:00, 27.78it/s]\n",
      "Action: emotion: 100%|███████████████████████████████████████████████████████████████████| 1/1 [00:00<00:00, 29.41it/s]\n",
      "Action: emotion: 100%|███████████████████████████████████████████████████████████████████| 1/1 [00:00<00:00, 30.30it/s]\n",
      "Action: emotion: 100%|███████████████████████████████████████████████████████████████████| 1/1 [00:00<00:00, 30.31it/s]\n",
      "Action: emotion: 100%|███████████████████████████████████████████████████████████████████| 1/1 [00:00<00:00, 27.03it/s]\n",
      "Action: emotion: 100%|███████████████████████████████████████████████████████████████████| 1/1 [00:00<00:00, 27.03it/s]\n",
      "Action: emotion: 100%|███████████████████████████████████████████████████████████████████| 1/1 [00:00<00:00, 26.32it/s]\n",
      "Action: emotion: 100%|███████████████████████████████████████████████████████████████████| 1/1 [00:00<00:00, 29.41it/s]\n",
      "Action: emotion: 100%|███████████████████████████████████████████████████████████████████| 1/1 [00:00<00:00, 28.57it/s]\n",
      "Action: emotion: 100%|███████████████████████████████████████████████████████████████████| 1/1 [00:00<00:00, 30.30it/s]\n",
      "Action: emotion: 100%|███████████████████████████████████████████████████████████████████| 1/1 [00:00<00:00, 28.57it/s]\n",
      "Action: emotion: 100%|███████████████████████████████████████████████████████████████████| 1/1 [00:00<00:00, 27.03it/s]\n",
      "Action: emotion: 100%|███████████████████████████████████████████████████████████████████| 1/1 [00:00<00:00, 29.41it/s]\n",
      "Action: emotion: 100%|███████████████████████████████████████████████████████████████████| 1/1 [00:00<00:00, 28.57it/s]\n",
      "Action: emotion: 100%|███████████████████████████████████████████████████████████████████| 1/1 [00:00<00:00, 26.32it/s]\n",
      "Action: emotion: 100%|███████████████████████████████████████████████████████████████████| 1/1 [00:00<00:00, 29.41it/s]\n",
      "Action: emotion: 100%|███████████████████████████████████████████████████████████████████| 1/1 [00:00<00:00, 29.41it/s]\n",
      "Action: emotion: 100%|███████████████████████████████████████████████████████████████████| 1/1 [00:00<00:00, 31.25it/s]\n",
      "Action: emotion: 100%|███████████████████████████████████████████████████████████████████| 1/1 [00:00<00:00, 29.41it/s]\n",
      "Action: emotion: 100%|███████████████████████████████████████████████████████████████████| 1/1 [00:00<00:00, 29.42it/s]\n",
      "Action: emotion: 100%|███████████████████████████████████████████████████████████████████| 1/1 [00:00<00:00, 29.41it/s]\n",
      "Action: emotion: 100%|███████████████████████████████████████████████████████████████████| 1/1 [00:00<00:00, 28.57it/s]\n",
      "Action: emotion: 100%|███████████████████████████████████████████████████████████████████| 1/1 [00:00<00:00, 27.03it/s]\n",
      "Action: emotion: 100%|███████████████████████████████████████████████████████████████████| 1/1 [00:00<00:00, 31.25it/s]\n",
      "Action: emotion: 100%|███████████████████████████████████████████████████████████████████| 1/1 [00:00<00:00, 30.30it/s]\n",
      "Action: emotion: 100%|███████████████████████████████████████████████████████████████████| 1/1 [00:00<00:00, 28.57it/s]\n",
      "Action: emotion: 100%|███████████████████████████████████████████████████████████████████| 1/1 [00:00<00:00, 29.41it/s]\n",
      "Action: emotion: 100%|███████████████████████████████████████████████████████████████████| 1/1 [00:00<00:00, 30.30it/s]\n",
      "Action: emotion: 100%|███████████████████████████████████████████████████████████████████| 1/1 [00:00<00:00, 28.57it/s]\n",
      "Action: emotion: 100%|███████████████████████████████████████████████████████████████████| 1/1 [00:00<00:00, 30.30it/s]\n",
      "Action: emotion: 100%|███████████████████████████████████████████████████████████████████| 1/1 [00:00<00:00, 27.03it/s]\n",
      "Action: emotion: 100%|███████████████████████████████████████████████████████████████████| 1/1 [00:00<00:00, 29.41it/s]\n",
      "Action: emotion: 100%|███████████████████████████████████████████████████████████████████| 1/1 [00:00<00:00, 26.32it/s]\n",
      "Action: emotion: 100%|███████████████████████████████████████████████████████████████████| 1/1 [00:00<00:00, 27.78it/s]\n",
      "Action: emotion: 100%|███████████████████████████████████████████████████████████████████| 1/1 [00:00<00:00, 27.78it/s]\n",
      "Action: emotion: 100%|███████████████████████████████████████████████████████████████████| 1/1 [00:00<00:00, 28.57it/s]\n",
      "Action: emotion: 100%|███████████████████████████████████████████████████████████████████| 1/1 [00:00<00:00, 27.78it/s]\n",
      "Action: emotion: 100%|███████████████████████████████████████████████████████████████████| 1/1 [00:00<00:00, 29.41it/s]\n",
      "Action: emotion: 100%|███████████████████████████████████████████████████████████████████| 1/1 [00:00<00:00, 30.30it/s]\n",
      "Action: emotion: 100%|███████████████████████████████████████████████████████████████████| 1/1 [00:00<00:00, 25.64it/s]\n",
      "Action: emotion: 100%|███████████████████████████████████████████████████████████████████| 1/1 [00:00<00:00, 30.30it/s]\n",
      "Action: emotion: 100%|███████████████████████████████████████████████████████████████████| 1/1 [00:00<00:00, 30.30it/s]\n",
      "Action: emotion: 100%|███████████████████████████████████████████████████████████████████| 1/1 [00:00<00:00, 30.30it/s]\n"
     ]
    },
    {
     "name": "stdout",
     "output_type": "stream",
     "text": [
      "MoviePy - Writing audio in testclip.wav\n"
     ]
    },
    {
     "name": "stderr",
     "output_type": "stream",
     "text": [
      "                                                                                                                       \r"
     ]
    },
    {
     "name": "stdout",
     "output_type": "stream",
     "text": [
      "MoviePy - Done.\n",
      "result2:\n",
      "{   'alternative': [   {   'confidence': 0.94850993,\n",
      "                           'transcript': 'did I just take protect item off The '\n",
      "                                         \"Tick I died but there's no sure he's \"\n",
      "                                         \"dreaming is Navan 4:00 no there's \"\n",
      "                                         \"actually no shop I'm\"},\n",
      "                       {   'transcript': 'did I just take protect item off The '\n",
      "                                         \"Tick I died there's no sure he's \"\n",
      "                                         \"dreaming is Navan 4:00 no there's \"\n",
      "                                         \"actually no shop I'm\"},\n",
      "                       {   'transcript': 'did I just take protect item off The '\n",
      "                                         \"Tick I died there's no shot he's \"\n",
      "                                         \"dreaming is Navan 4:00 no there's \"\n",
      "                                         \"actually no shop I'm\"},\n",
      "                       {   'transcript': 'did I just take protect item off The '\n",
      "                                         \"Tick I died but there's no sure he's \"\n",
      "                                         \"dreaming is Navan 4:00 no there's \"\n",
      "                                         'actually no shop.im'},\n",
      "                       {   'transcript': 'did I just take protect item off The '\n",
      "                                         \"Tick I died but there's no sure he's \"\n",
      "                                         \"dreaming is Navan 4:00 know there's \"\n",
      "                                         \"actually no shop I'm\"}],\n",
      "    'final': True}\n",
      "                           message    time  neg    neu    pos    comp\n",
      "0  what's best? dhcb, dhl or fang?  1572.0  0.0  0.523  0.477  0.6767\n",
      "1                    tyty good sir  1578.0  0.0  0.408  0.592  0.4404\n",
      "2          what do you need at kbd  1602.0  0.0  1.000  0.000  0.0000\n",
      "{'count1': 0.0, 'neg1': 0.0, 'neu1': 0.0, 'pos1': 0.0, 'comp1': 0.0, 'count2': 0.5, 'neg2': 0.0, 'neu2': 0.17433333333333334, 'pos2': 0.159, 'comp2': 0.22556666666666667, 'count3': 0.0, 'neg3': 0.0, 'neu3': 0.0, 'pos3': 0.0, 'comp3': 0.0, 'count4': 0.5, 'neg4': 0.0, 'neu4': 0.13599999999999998, 'pos4': 0.19733333333333333, 'comp4': 0.1468, 'count5': 0.0, 'neg5': 0.0, 'neu5': 0.0, 'pos5': 0.0, 'comp5': 0.0, 'count6': 0.0, 'neg6': 0.0, 'neu6': 0.0, 'pos6': 0.0, 'comp6': 0.0, 'count7': 0.0, 'neg7': 0.0, 'neu7': 0.0, 'pos7': 0.0, 'comp7': 0.0, 'count8': 0.0, 'neg8': 0.0, 'neu8': 0.0, 'pos8': 0.0, 'comp8': 0.0, 'count9': 0.0, 'neg9': 0.0, 'neu9': 0.0, 'pos9': 0.0, 'comp9': 0.0, 'count10': 0.0, 'neg10': 0.0, 'neu10': 0.0, 'pos10': 0.0, 'comp10': 0.0}\n"
     ]
    },
    {
     "name": "stderr",
     "output_type": "stream",
     "text": [
      "Action: emotion: 100%|███████████████████████████████████████████████████████████████████| 1/1 [00:00<00:00, 27.78it/s]\n",
      "Action: emotion: 100%|███████████████████████████████████████████████████████████████████| 1/1 [00:00<00:00, 23.81it/s]\n",
      "Action: emotion: 100%|███████████████████████████████████████████████████████████████████| 1/1 [00:00<00:00, 29.41it/s]\n",
      "Action: emotion: 100%|███████████████████████████████████████████████████████████████████| 1/1 [00:00<00:00, 26.32it/s]\n",
      "Action: emotion: 100%|███████████████████████████████████████████████████████████████████| 1/1 [00:00<00:00, 30.30it/s]\n",
      "Action: emotion: 100%|███████████████████████████████████████████████████████████████████| 1/1 [00:00<00:00, 29.41it/s]\n",
      "Action: emotion: 100%|███████████████████████████████████████████████████████████████████| 1/1 [00:00<00:00, 30.30it/s]\n",
      "Action: emotion: 100%|███████████████████████████████████████████████████████████████████| 1/1 [00:00<00:00, 30.30it/s]\n",
      "Action: emotion: 100%|███████████████████████████████████████████████████████████████████| 1/1 [00:00<00:00, 30.30it/s]\n",
      "Action: emotion: 100%|███████████████████████████████████████████████████████████████████| 1/1 [00:00<00:00, 27.78it/s]\n",
      "Action: emotion: 100%|███████████████████████████████████████████████████████████████████| 1/1 [00:00<00:00, 28.57it/s]\n",
      "Action: emotion: 100%|███████████████████████████████████████████████████████████████████| 1/1 [00:00<00:00, 26.32it/s]\n",
      "Action: emotion: 100%|███████████████████████████████████████████████████████████████████| 1/1 [00:00<00:00, 30.30it/s]\n",
      "Action: emotion: 100%|███████████████████████████████████████████████████████████████████| 1/1 [00:00<00:00, 29.41it/s]\n",
      "Action: emotion: 100%|███████████████████████████████████████████████████████████████████| 1/1 [00:00<00:00, 30.30it/s]\n",
      "Action: emotion: 100%|███████████████████████████████████████████████████████████████████| 1/1 [00:00<00:00, 30.30it/s]\n",
      "Action: emotion: 100%|███████████████████████████████████████████████████████████████████| 1/1 [00:00<00:00, 30.30it/s]\n",
      "Action: emotion: 100%|███████████████████████████████████████████████████████████████████| 1/1 [00:00<00:00, 30.30it/s]\n",
      "Action: emotion: 100%|███████████████████████████████████████████████████████████████████| 1/1 [00:00<00:00, 30.30it/s]\n",
      "Action: emotion: 100%|███████████████████████████████████████████████████████████████████| 1/1 [00:00<00:00, 30.30it/s]\n",
      "Action: emotion: 100%|███████████████████████████████████████████████████████████████████| 1/1 [00:00<00:00, 26.32it/s]\n",
      "Action: emotion: 100%|███████████████████████████████████████████████████████████████████| 1/1 [00:00<00:00, 30.30it/s]\n",
      "Action: emotion: 100%|███████████████████████████████████████████████████████████████████| 1/1 [00:00<00:00, 30.30it/s]\n",
      "Action: emotion: 100%|███████████████████████████████████████████████████████████████████| 1/1 [00:00<00:00, 30.30it/s]\n",
      "Action: emotion: 100%|███████████████████████████████████████████████████████████████████| 1/1 [00:00<00:00, 29.41it/s]\n",
      "Action: emotion: 100%|███████████████████████████████████████████████████████████████████| 1/1 [00:00<00:00, 29.41it/s]\n",
      "Action: emotion: 100%|███████████████████████████████████████████████████████████████████| 1/1 [00:00<00:00, 28.57it/s]\n"
     ]
    },
    {
     "name": "stdout",
     "output_type": "stream",
     "text": [
      "MoviePy - Writing audio in testclip.wav\n"
     ]
    },
    {
     "name": "stderr",
     "output_type": "stream",
     "text": [
      "                                                                                                                       \r"
     ]
    },
    {
     "name": "stdout",
     "output_type": "stream",
     "text": [
      "MoviePy - Done.\n",
      "result2:\n",
      "{   'alternative': [{'confidence': 0.95467669, 'transcript': 'humble abode'}],\n",
      "    'final': True}\n",
      "                            message     time    neg    neu    pos    comp\n",
      "0             oh uh 1 sec on my way  10217.0  0.000  1.000  0.000  0.0000\n",
      "1                               lol  10218.0  0.000  0.000  1.000  0.4215\n",
      "2                              lmao  10223.0  0.000  0.000  1.000  0.5994\n",
      "3        that guy was bait for sure  10227.0  0.000  0.685  0.315  0.3182\n",
      "4  G0T DAMN!!!!!!!!!!!!!!!!!!!!!!!!  10230.0  0.795  0.205  0.000 -0.5951\n",
      "5          bdsm scouted it for sure  10237.0  0.000  0.635  0.365  0.3182\n",
      "6                              lmao  10238.0  0.000  0.000  1.000  0.5994\n",
      "{'count1': 0.0, 'neg1': 0.0, 'neu1': 0.0, 'pos1': 0.0, 'comp1': 0.0, 'count2': 0.0, 'neg2': 0.0, 'neu2': 0.0, 'pos2': 0.0, 'comp2': 0.0, 'count3': 0.3333333333333333, 'neg3': 0.0, 'neu3': 0.3333333333333333, 'pos3': 0.3333333333333333, 'comp3': 0.14049999999999999, 'count4': 0.0, 'neg4': 0.0, 'neu4': 0.0, 'pos4': 0.0, 'comp4': 0.0, 'count5': 0.16666666666666666, 'neg5': 0.0, 'neu5': 0.0, 'pos5': 0.3333333333333333, 'comp5': 0.1998, 'count6': 0.16666666666666666, 'neg6': 0.0, 'neu6': 0.22833333333333336, 'pos6': 0.105, 'comp6': 0.10606666666666666, 'count7': 0.16666666666666666, 'neg7': 0.265, 'neu7': 0.06833333333333333, 'pos7': 0.0, 'comp7': -0.19836666666666666, 'count8': 0.0, 'neg8': 0.0, 'neu8': 0.0, 'pos8': 0.0, 'comp8': 0.0, 'count9': 0.0, 'neg9': 0.0, 'neu9': 0.0, 'pos9': 0.0, 'comp9': 0.0, 'count10': 0.16666666666666666, 'neg10': 0.0, 'neu10': 0.21166666666666667, 'pos10': 0.12166666666666666, 'comp10': 0.10606666666666666}\n"
     ]
    },
    {
     "name": "stderr",
     "output_type": "stream",
     "text": [
      "Action: emotion: 100%|███████████████████████████████████████████████████████████████████| 1/1 [00:00<00:00, 30.30it/s]\n",
      "Action: emotion: 100%|███████████████████████████████████████████████████████████████████| 1/1 [00:00<00:00, 27.03it/s]\n",
      "Action: emotion: 100%|███████████████████████████████████████████████████████████████████| 1/1 [00:00<00:00, 30.30it/s]\n",
      "Action: emotion: 100%|███████████████████████████████████████████████████████████████████| 1/1 [00:00<00:00, 30.30it/s]\n",
      "Action: emotion: 100%|███████████████████████████████████████████████████████████████████| 1/1 [00:00<00:00, 30.30it/s]\n",
      "Action: emotion: 100%|███████████████████████████████████████████████████████████████████| 1/1 [00:00<00:00, 30.30it/s]\n",
      "Action: emotion: 100%|███████████████████████████████████████████████████████████████████| 1/1 [00:00<00:00, 30.30it/s]\n",
      "Action: emotion: 100%|███████████████████████████████████████████████████████████████████| 1/1 [00:00<00:00, 30.30it/s]\n",
      "Action: emotion: 100%|███████████████████████████████████████████████████████████████████| 1/1 [00:00<00:00, 30.30it/s]\n",
      "Action: emotion: 100%|███████████████████████████████████████████████████████████████████| 1/1 [00:00<00:00, 27.78it/s]\n",
      "Action: emotion: 100%|███████████████████████████████████████████████████████████████████| 1/1 [00:00<00:00, 29.41it/s]\n",
      "Action: emotion: 100%|███████████████████████████████████████████████████████████████████| 1/1 [00:00<00:00, 29.41it/s]\n",
      "Action: emotion: 100%|███████████████████████████████████████████████████████████████████| 1/1 [00:00<00:00, 29.41it/s]\n",
      "Action: emotion: 100%|███████████████████████████████████████████████████████████████████| 1/1 [00:00<00:00, 30.30it/s]\n",
      "Action: emotion: 100%|███████████████████████████████████████████████████████████████████| 1/1 [00:00<00:00, 30.30it/s]\n",
      "Action: emotion: 100%|███████████████████████████████████████████████████████████████████| 1/1 [00:00<00:00, 31.25it/s]\n",
      "Action: emotion: 100%|███████████████████████████████████████████████████████████████████| 1/1 [00:00<00:00, 30.30it/s]\n",
      "Action: emotion: 100%|███████████████████████████████████████████████████████████████████| 1/1 [00:00<00:00, 30.30it/s]\n",
      "Action: emotion: 100%|███████████████████████████████████████████████████████████████████| 1/1 [00:00<00:00, 27.03it/s]\n",
      "Action: emotion: 100%|███████████████████████████████████████████████████████████████████| 1/1 [00:00<00:00, 30.30it/s]\n",
      "Action: emotion: 100%|███████████████████████████████████████████████████████████████████| 1/1 [00:00<00:00, 30.30it/s]\n",
      "Action: emotion: 100%|███████████████████████████████████████████████████████████████████| 1/1 [00:00<00:00, 27.78it/s]\n",
      "Action: emotion: 100%|███████████████████████████████████████████████████████████████████| 1/1 [00:00<00:00, 28.57it/s]\n",
      "Action: emotion: 100%|███████████████████████████████████████████████████████████████████| 1/1 [00:00<00:00, 30.30it/s]\n",
      "Action: emotion: 100%|███████████████████████████████████████████████████████████████████| 1/1 [00:00<00:00, 30.30it/s]\n",
      "Action: emotion: 100%|███████████████████████████████████████████████████████████████████| 1/1 [00:00<00:00, 30.31it/s]\n",
      "Action: emotion: 100%|███████████████████████████████████████████████████████████████████| 1/1 [00:00<00:00, 27.03it/s]\n",
      "Action: emotion: 100%|███████████████████████████████████████████████████████████████████| 1/1 [00:00<00:00, 30.30it/s]\n",
      "Action: emotion: 100%|███████████████████████████████████████████████████████████████████| 1/1 [00:00<00:00, 30.31it/s]\n",
      "Action: emotion: 100%|███████████████████████████████████████████████████████████████████| 1/1 [00:00<00:00, 29.41it/s]\n",
      "Action: emotion: 100%|███████████████████████████████████████████████████████████████████| 1/1 [00:00<00:00, 30.30it/s]\n",
      "Action: emotion: 100%|███████████████████████████████████████████████████████████████████| 1/1 [00:00<00:00, 31.25it/s]\n",
      "Action: emotion: 100%|███████████████████████████████████████████████████████████████████| 1/1 [00:00<00:00, 30.30it/s]\n",
      "Action: emotion: 100%|███████████████████████████████████████████████████████████████████| 1/1 [00:00<00:00, 31.25it/s]\n",
      "Action: emotion: 100%|███████████████████████████████████████████████████████████████████| 1/1 [00:00<00:00, 31.25it/s]\n",
      "Action: emotion: 100%|███████████████████████████████████████████████████████████████████| 1/1 [00:00<00:00, 27.78it/s]\n",
      "Action: emotion: 100%|███████████████████████████████████████████████████████████████████| 1/1 [00:00<00:00, 29.41it/s]\n",
      "Action: emotion: 100%|███████████████████████████████████████████████████████████████████| 1/1 [00:00<00:00, 31.25it/s]\n",
      "Action: emotion: 100%|███████████████████████████████████████████████████████████████████| 1/1 [00:00<00:00, 30.30it/s]\n",
      "Action: emotion: 100%|███████████████████████████████████████████████████████████████████| 1/1 [00:00<00:00, 29.39it/s]\n",
      "Action: emotion: 100%|███████████████████████████████████████████████████████████████████| 1/1 [00:00<00:00, 31.25it/s]\n",
      "Action: emotion: 100%|███████████████████████████████████████████████████████████████████| 1/1 [00:00<00:00, 28.57it/s]\n",
      "Action: emotion: 100%|███████████████████████████████████████████████████████████████████| 1/1 [00:00<00:00, 30.30it/s]\n",
      "Action: emotion: 100%|███████████████████████████████████████████████████████████████████| 1/1 [00:00<00:00, 27.78it/s]\n",
      "Action: emotion: 100%|███████████████████████████████████████████████████████████████████| 1/1 [00:00<00:00, 31.25it/s]\n",
      "Action: emotion: 100%|███████████████████████████████████████████████████████████████████| 1/1 [00:00<00:00, 29.41it/s]\n",
      "Action: emotion: 100%|███████████████████████████████████████████████████████████████████| 1/1 [00:00<00:00, 30.30it/s]\n",
      "Action: emotion: 100%|███████████████████████████████████████████████████████████████████| 1/1 [00:00<00:00, 30.29it/s]\n",
      "Action: emotion: 100%|███████████████████████████████████████████████████████████████████| 1/1 [00:00<00:00, 27.78it/s]\n",
      "Action: emotion: 100%|███████████████████████████████████████████████████████████████████| 1/1 [00:00<00:00, 29.41it/s]\n",
      "Action: emotion: 100%|███████████████████████████████████████████████████████████████████| 1/1 [00:00<00:00, 27.03it/s]\n",
      "Action: emotion: 100%|███████████████████████████████████████████████████████████████████| 1/1 [00:00<00:00, 30.30it/s]\n",
      "Action: emotion: 100%|███████████████████████████████████████████████████████████████████| 1/1 [00:00<00:00, 26.32it/s]\n",
      "Action: emotion: 100%|███████████████████████████████████████████████████████████████████| 1/1 [00:00<00:00, 30.30it/s]\n",
      "Action: emotion: 100%|███████████████████████████████████████████████████████████████████| 1/1 [00:00<00:00, 30.30it/s]\n",
      "Action: emotion: 100%|███████████████████████████████████████████████████████████████████| 1/1 [00:00<00:00, 27.78it/s]\n",
      "Action: emotion: 100%|███████████████████████████████████████████████████████████████████| 1/1 [00:00<00:00, 30.30it/s]\n",
      "Action: emotion: 100%|███████████████████████████████████████████████████████████████████| 1/1 [00:00<00:00, 29.41it/s]\n",
      "Action: emotion: 100%|███████████████████████████████████████████████████████████████████| 1/1 [00:00<00:00, 30.30it/s]\n",
      "Action: emotion: 100%|███████████████████████████████████████████████████████████████████| 1/1 [00:00<00:00, 29.41it/s]\n",
      "Action: emotion: 100%|███████████████████████████████████████████████████████████████████| 1/1 [00:00<00:00, 30.30it/s]\n",
      "Action: emotion: 100%|███████████████████████████████████████████████████████████████████| 1/1 [00:00<00:00, 26.32it/s]\n",
      "Action: emotion: 100%|███████████████████████████████████████████████████████████████████| 1/1 [00:00<00:00, 29.41it/s]\n",
      "Action: emotion: 100%|███████████████████████████████████████████████████████████████████| 1/1 [00:00<00:00, 29.41it/s]\n",
      "Action: emotion: 100%|███████████████████████████████████████████████████████████████████| 1/1 [00:00<00:00, 29.41it/s]\n"
     ]
    },
    {
     "name": "stdout",
     "output_type": "stream",
     "text": [
      "MoviePy - Writing audio in testclip.wav\n"
     ]
    },
    {
     "name": "stderr",
     "output_type": "stream",
     "text": [
      "                                                                                                                       \r"
     ]
    },
    {
     "name": "stdout",
     "output_type": "stream",
     "text": [
      "MoviePy - Done.\n",
      "result2:\n",
      "{   'alternative': [   {   'confidence': 0.93712038,\n",
      "                           'transcript': 'careful speakers and kill them all '\n",
      "                                         \"she used to sit ok guys there's a \"\n",
      "                                         'huge cricket team so get the funk '\n",
      "                                         \"out just get out of here there's a \"\n",
      "                                         'huge clan will when I get better '\n",
      "                                         'fighting back there is no way there '\n",
      "                                         'is no way we can fight them back'},\n",
      "                       {   'transcript': 'Iceland careful speakers and kill '\n",
      "                                         'them all she used to sit ok guys '\n",
      "                                         \"there's a huge cricket team so get \"\n",
      "                                         'the funk out just get out of here '\n",
      "                                         \"there's a huge plan we're when I get \"\n",
      "                                         'better fighting back there is no way '\n",
      "                                         'there is no way we can fight them '\n",
      "                                         'back'},\n",
      "                       {   'transcript': 'Iceland careful speakers and kill '\n",
      "                                         'them all she used to sit ok guys '\n",
      "                                         \"there's a huge cricket team so get \"\n",
      "                                         'the funk out just get out of here '\n",
      "                                         \"there's a huge clan where when I get \"\n",
      "                                         'rid of fighting back there is no way '\n",
      "                                         'there is no way we can fight them '\n",
      "                                         'back'},\n",
      "                       {   'transcript': 'Ashley careful speakers and kill '\n",
      "                                         'them all she used to sit ok guys '\n",
      "                                         \"there's a huge cricket team so get \"\n",
      "                                         'the funk out just get out of here '\n",
      "                                         \"there's a huge clan where when I get \"\n",
      "                                         'rid of fighting back there is no way '\n",
      "                                         'there is no way we can fight them '\n",
      "                                         'back'},\n",
      "                       {   'transcript': 'Iceland careful speakers and kill '\n",
      "                                         'them all she used to sit ok guys '\n",
      "                                         \"there's a huge cricket team so get \"\n",
      "                                         'the funk out just get out of here '\n",
      "                                         \"there's a huge clan will when I get \"\n",
      "                                         'better fighting back there is no way '\n",
      "                                         'there is no way we can fight them '\n",
      "                                         'back'}],\n",
      "    'final': True}\n",
      "                                             message     time   neg    neu  \\\n",
      "0                  made 30m extra so more than happy  14460.0  0.00  0.586   \n",
      "1                                hahah hes in de bin  14470.0  0.00  1.000   \n",
      "2                             lmfao you got the kill  14477.0  0.42  0.268   \n",
      "3                                               KEKW  14477.0  0.00  1.000   \n",
      "4  riceKEK1 riceKEK2 riceKEK1 riceKEK2 riceKEK1 r...  14477.0  0.00  1.000   \n",
      "5                                       hahahahaahha  14484.0  0.00  1.000   \n",
      "\n",
      "     pos    comp  \n",
      "0  0.414  0.6419  \n",
      "1  0.000  0.0000  \n",
      "2  0.312 -0.2960  \n",
      "3  0.000  0.0000  \n",
      "4  0.000  0.0000  \n",
      "5  0.000  0.0000  \n",
      "{'count1': 0.0, 'neg1': 0.0, 'neu1': 0.0, 'pos1': 0.0, 'comp1': 0.0, 'count2': 0.0, 'neg2': 0.0, 'neu2': 0.0, 'pos2': 0.0, 'comp2': 0.0, 'count3': 0.2, 'neg3': 0.0, 'neu3': 0.1465, 'pos3': 0.1035, 'comp3': 0.160475, 'count4': 0.0, 'neg4': 0.0, 'neu4': 0.0, 'pos4': 0.0, 'comp4': 0.0, 'count5': 0.0, 'neg5': 0.0, 'neu5': 0.0, 'pos5': 0.0, 'comp5': 0.0, 'count6': 0.2, 'neg6': 0.0, 'neu6': 0.25, 'pos6': 0.0, 'comp6': 0.0, 'count7': 0.0, 'neg7': 0.0, 'neu7': 0.0, 'pos7': 0.0, 'comp7': 0.0, 'count8': 0.6, 'neg8': 0.105, 'neu8': 0.567, 'pos8': 0.078, 'comp8': -0.074, 'count9': 0.0, 'neg9': 0.0, 'neu9': 0.0, 'pos9': 0.0, 'comp9': 0.0, 'count10': 0.0, 'neg10': 0.0, 'neu10': 0.0, 'pos10': 0.0, 'comp10': 0.0}\n"
     ]
    },
    {
     "name": "stderr",
     "output_type": "stream",
     "text": [
      "Action: emotion: 100%|███████████████████████████████████████████████████████████████████| 1/1 [00:00<00:00, 30.30it/s]\n",
      "Action: emotion: 100%|███████████████████████████████████████████████████████████████████| 1/1 [00:00<00:00, 30.30it/s]\n",
      "Action: emotion: 100%|███████████████████████████████████████████████████████████████████| 1/1 [00:00<00:00, 27.78it/s]\n",
      "Action: emotion: 100%|███████████████████████████████████████████████████████████████████| 1/1 [00:00<00:00, 27.03it/s]\n",
      "Action: emotion: 100%|███████████████████████████████████████████████████████████████████| 1/1 [00:00<00:00, 29.41it/s]\n",
      "Action: emotion: 100%|███████████████████████████████████████████████████████████████████| 1/1 [00:00<00:00, 30.30it/s]\n",
      "Action: emotion: 100%|███████████████████████████████████████████████████████████████████| 1/1 [00:00<00:00, 28.57it/s]\n",
      "Action: emotion: 100%|███████████████████████████████████████████████████████████████████| 1/1 [00:00<00:00, 29.41it/s]\n",
      "Action: emotion: 100%|███████████████████████████████████████████████████████████████████| 1/1 [00:00<00:00, 31.25it/s]\n",
      "Action: emotion: 100%|███████████████████████████████████████████████████████████████████| 1/1 [00:00<00:00, 31.25it/s]\n",
      "Action: emotion: 100%|███████████████████████████████████████████████████████████████████| 1/1 [00:00<00:00, 32.26it/s]\n",
      "Action: emotion: 100%|███████████████████████████████████████████████████████████████████| 1/1 [00:00<00:00, 29.41it/s]\n",
      "Action: emotion: 100%|███████████████████████████████████████████████████████████████████| 1/1 [00:00<00:00, 25.64it/s]\n",
      "Action: emotion: 100%|███████████████████████████████████████████████████████████████████| 1/1 [00:00<00:00, 30.30it/s]\n",
      "Action: emotion: 100%|███████████████████████████████████████████████████████████████████| 1/1 [00:00<00:00, 30.30it/s]\n",
      "Action: emotion: 100%|███████████████████████████████████████████████████████████████████| 1/1 [00:00<00:00, 31.25it/s]\n",
      "Action: emotion: 100%|███████████████████████████████████████████████████████████████████| 1/1 [00:00<00:00, 31.25it/s]\n",
      "Action: emotion: 100%|███████████████████████████████████████████████████████████████████| 1/1 [00:00<00:00, 31.25it/s]\n",
      "Action: emotion: 100%|███████████████████████████████████████████████████████████████████| 1/1 [00:00<00:00, 23.26it/s]\n",
      "Action: emotion: 100%|███████████████████████████████████████████████████████████████████| 1/1 [00:00<00:00, 26.32it/s]\n",
      "Action: emotion: 100%|███████████████████████████████████████████████████████████████████| 1/1 [00:00<00:00, 21.28it/s]\n",
      "Action: emotion: 100%|███████████████████████████████████████████████████████████████████| 1/1 [00:00<00:00, 21.74it/s]\n",
      "Action: emotion: 100%|███████████████████████████████████████████████████████████████████| 1/1 [00:00<00:00, 27.78it/s]\n",
      "Action: emotion: 100%|███████████████████████████████████████████████████████████████████| 1/1 [00:00<00:00, 28.57it/s]\n",
      "Action: emotion: 100%|███████████████████████████████████████████████████████████████████| 1/1 [00:00<00:00, 31.25it/s]\n",
      "Action: emotion: 100%|███████████████████████████████████████████████████████████████████| 1/1 [00:00<00:00, 30.30it/s]\n",
      "Action: emotion: 100%|███████████████████████████████████████████████████████████████████| 1/1 [00:00<00:00, 30.30it/s]\n",
      "Action: emotion: 100%|███████████████████████████████████████████████████████████████████| 1/1 [00:00<00:00, 30.30it/s]\n",
      "Action: emotion: 100%|███████████████████████████████████████████████████████████████████| 1/1 [00:00<00:00, 30.30it/s]\n",
      "Action: emotion: 100%|███████████████████████████████████████████████████████████████████| 1/1 [00:00<00:00, 27.78it/s]\n",
      "Action: emotion: 100%|███████████████████████████████████████████████████████████████████| 1/1 [00:00<00:00, 31.25it/s]\n",
      "Action: emotion: 100%|███████████████████████████████████████████████████████████████████| 1/1 [00:00<00:00, 30.30it/s]\n",
      "Action: emotion: 100%|███████████████████████████████████████████████████████████████████| 1/1 [00:00<00:00, 31.25it/s]\n",
      "Action: emotion: 100%|███████████████████████████████████████████████████████████████████| 1/1 [00:00<00:00, 31.25it/s]\n",
      "Action: emotion: 100%|███████████████████████████████████████████████████████████████████| 1/1 [00:00<00:00, 30.30it/s]\n",
      "Action: emotion: 100%|███████████████████████████████████████████████████████████████████| 1/1 [00:00<00:00, 31.25it/s]\n",
      "Action: emotion: 100%|███████████████████████████████████████████████████████████████████| 1/1 [00:00<00:00, 31.25it/s]\n",
      "Action: emotion: 100%|███████████████████████████████████████████████████████████████████| 1/1 [00:00<00:00, 28.15it/s]\n",
      "Action: emotion: 100%|███████████████████████████████████████████████████████████████████| 1/1 [00:00<00:00, 30.30it/s]\n",
      "Action: emotion: 100%|███████████████████████████████████████████████████████████████████| 1/1 [00:00<00:00, 28.57it/s]\n",
      "Action: emotion: 100%|███████████████████████████████████████████████████████████████████| 1/1 [00:00<00:00, 30.30it/s]\n",
      "Action: emotion: 100%|███████████████████████████████████████████████████████████████████| 1/1 [00:00<00:00, 30.30it/s]\n",
      "Action: emotion: 100%|███████████████████████████████████████████████████████████████████| 1/1 [00:00<00:00, 27.78it/s]\n",
      "Action: emotion: 100%|███████████████████████████████████████████████████████████████████| 1/1 [00:00<00:00, 30.30it/s]\n",
      "Action: emotion: 100%|███████████████████████████████████████████████████████████████████| 1/1 [00:00<00:00, 32.26it/s]\n",
      "Action: emotion: 100%|███████████████████████████████████████████████████████████████████| 1/1 [00:00<00:00, 28.57it/s]\n",
      "Action: emotion: 100%|███████████████████████████████████████████████████████████████████| 1/1 [00:00<00:00, 30.30it/s]\n",
      "Action: emotion: 100%|███████████████████████████████████████████████████████████████████| 1/1 [00:00<00:00, 29.41it/s]\n",
      "Action: emotion: 100%|███████████████████████████████████████████████████████████████████| 1/1 [00:00<00:00, 30.31it/s]\n",
      "Action: emotion: 100%|███████████████████████████████████████████████████████████████████| 1/1 [00:00<00:00, 28.57it/s]\n",
      "Action: emotion: 100%|███████████████████████████████████████████████████████████████████| 1/1 [00:00<00:00, 28.57it/s]\n",
      "Action: emotion: 100%|███████████████████████████████████████████████████████████████████| 1/1 [00:00<00:00, 30.30it/s]\n",
      "Action: emotion: 100%|███████████████████████████████████████████████████████████████████| 1/1 [00:00<00:00, 31.25it/s]\n",
      "Action: emotion: 100%|███████████████████████████████████████████████████████████████████| 1/1 [00:00<00:00, 31.25it/s]\n",
      "Action: emotion: 100%|███████████████████████████████████████████████████████████████████| 1/1 [00:00<00:00, 27.78it/s]\n",
      "Action: emotion: 100%|███████████████████████████████████████████████████████████████████| 1/1 [00:00<00:00, 31.25it/s]\n",
      "Action: emotion: 100%|███████████████████████████████████████████████████████████████████| 1/1 [00:00<00:00, 31.25it/s]\n",
      "Action: emotion: 100%|███████████████████████████████████████████████████████████████████| 1/1 [00:00<00:00, 31.25it/s]\n",
      "Action: emotion: 100%|███████████████████████████████████████████████████████████████████| 1/1 [00:00<00:00, 31.25it/s]\n",
      "Action: emotion: 100%|███████████████████████████████████████████████████████████████████| 1/1 [00:00<00:00, 30.30it/s]\n",
      "Action: emotion: 100%|███████████████████████████████████████████████████████████████████| 1/1 [00:00<00:00, 30.30it/s]\n",
      "Action: emotion: 100%|███████████████████████████████████████████████████████████████████| 1/1 [00:00<00:00, 30.30it/s]\n",
      "Action: emotion: 100%|███████████████████████████████████████████████████████████████████| 1/1 [00:00<00:00, 28.57it/s]\n",
      "Action: emotion: 100%|███████████████████████████████████████████████████████████████████| 1/1 [00:00<00:00, 31.25it/s]\n",
      "Action: emotion: 100%|███████████████████████████████████████████████████████████████████| 1/1 [00:00<00:00, 32.26it/s]\n",
      "Action: emotion: 100%|███████████████████████████████████████████████████████████████████| 1/1 [00:00<00:00, 30.30it/s]\n",
      "Action: emotion: 100%|███████████████████████████████████████████████████████████████████| 1/1 [00:00<00:00, 30.30it/s]\n",
      "Action: emotion: 100%|███████████████████████████████████████████████████████████████████| 1/1 [00:00<00:00, 31.25it/s]\n"
     ]
    },
    {
     "name": "stderr",
     "output_type": "stream",
     "text": [
      "Action: emotion: 100%|███████████████████████████████████████████████████████████████████| 1/1 [00:00<00:00, 30.30it/s]\n",
      "Action: emotion: 100%|███████████████████████████████████████████████████████████████████| 1/1 [00:00<00:00, 29.81it/s]\n",
      "Action: emotion: 100%|███████████████████████████████████████████████████████████████████| 1/1 [00:00<00:00, 30.30it/s]\n",
      "Action: emotion: 100%|███████████████████████████████████████████████████████████████████| 1/1 [00:00<00:00, 27.77it/s]\n",
      "Action: emotion: 100%|███████████████████████████████████████████████████████████████████| 1/1 [00:00<00:00, 31.25it/s]\n",
      "Action: emotion: 100%|███████████████████████████████████████████████████████████████████| 1/1 [00:00<00:00, 30.30it/s]\n",
      "Action: emotion: 100%|███████████████████████████████████████████████████████████████████| 1/1 [00:00<00:00, 29.41it/s]\n",
      "Action: emotion: 100%|███████████████████████████████████████████████████████████████████| 1/1 [00:00<00:00, 31.25it/s]\n",
      "Action: emotion: 100%|███████████████████████████████████████████████████████████████████| 1/1 [00:00<00:00, 31.24it/s]\n",
      "Action: emotion: 100%|███████████████████████████████████████████████████████████████████| 1/1 [00:00<00:00, 31.25it/s]\n",
      "Action: emotion: 100%|███████████████████████████████████████████████████████████████████| 1/1 [00:00<00:00, 31.25it/s]\n",
      "Action: emotion: 100%|███████████████████████████████████████████████████████████████████| 1/1 [00:00<00:00, 29.40it/s]\n",
      "Action: emotion: 100%|███████████████████████████████████████████████████████████████████| 1/1 [00:00<00:00, 31.25it/s]\n",
      "Action: emotion: 100%|███████████████████████████████████████████████████████████████████| 1/1 [00:00<00:00, 30.30it/s]\n",
      "Action: emotion: 100%|███████████████████████████████████████████████████████████████████| 1/1 [00:00<00:00, 31.25it/s]\n",
      "Action: emotion: 100%|███████████████████████████████████████████████████████████████████| 1/1 [00:00<00:00, 31.25it/s]\n",
      "Action: emotion: 100%|███████████████████████████████████████████████████████████████████| 1/1 [00:00<00:00, 30.30it/s]\n",
      "Action: emotion: 100%|███████████████████████████████████████████████████████████████████| 1/1 [00:00<00:00, 31.25it/s]\n",
      "Action: emotion: 100%|███████████████████████████████████████████████████████████████████| 1/1 [00:00<00:00, 31.25it/s]\n",
      "Action: emotion: 100%|███████████████████████████████████████████████████████████████████| 1/1 [00:00<00:00, 30.29it/s]\n",
      "Action: emotion: 100%|███████████████████████████████████████████████████████████████████| 1/1 [00:00<00:00, 27.03it/s]\n",
      "Action: emotion: 100%|███████████████████████████████████████████████████████████████████| 1/1 [00:00<00:00, 29.41it/s]\n",
      "Action: emotion: 100%|███████████████████████████████████████████████████████████████████| 1/1 [00:00<00:00, 31.25it/s]\n",
      "Action: emotion: 100%|███████████████████████████████████████████████████████████████████| 1/1 [00:00<00:00, 30.29it/s]\n",
      "Action: emotion: 100%|███████████████████████████████████████████████████████████████████| 1/1 [00:00<00:00, 31.25it/s]\n",
      "Action: emotion: 100%|███████████████████████████████████████████████████████████████████| 1/1 [00:00<00:00, 30.30it/s]\n",
      "Action: emotion: 100%|███████████████████████████████████████████████████████████████████| 1/1 [00:00<00:00, 31.25it/s]\n",
      "Action: emotion: 100%|███████████████████████████████████████████████████████████████████| 1/1 [00:00<00:00, 31.25it/s]\n",
      "Action: emotion: 100%|███████████████████████████████████████████████████████████████████| 1/1 [00:00<00:00, 28.56it/s]\n",
      "Action: emotion: 100%|███████████████████████████████████████████████████████████████████| 1/1 [00:00<00:00, 31.25it/s]\n",
      "Action: emotion: 100%|███████████████████████████████████████████████████████████████████| 1/1 [00:00<00:00, 31.25it/s]\n",
      "Action: emotion: 100%|███████████████████████████████████████████████████████████████████| 1/1 [00:00<00:00, 32.24it/s]\n",
      "Action: emotion: 100%|███████████████████████████████████████████████████████████████████| 1/1 [00:00<00:00, 29.41it/s]\n",
      "Action: emotion: 100%|███████████████████████████████████████████████████████████████████| 1/1 [00:00<00:00, 30.30it/s]\n",
      "Action: emotion: 100%|███████████████████████████████████████████████████████████████████| 1/1 [00:00<00:00, 31.25it/s]\n",
      "Action: emotion: 100%|███████████████████████████████████████████████████████████████████| 1/1 [00:00<00:00, 28.57it/s]\n",
      "Action: emotion: 100%|███████████████████████████████████████████████████████████████████| 1/1 [00:00<00:00, 30.30it/s]\n",
      "Action: emotion: 100%|███████████████████████████████████████████████████████████████████| 1/1 [00:00<00:00, 26.31it/s]\n",
      "Action: emotion: 100%|███████████████████████████████████████████████████████████████████| 1/1 [00:00<00:00, 25.64it/s]\n",
      "Action: emotion: 100%|███████████████████████████████████████████████████████████████████| 1/1 [00:00<00:00, 27.03it/s]\n",
      "Action: emotion: 100%|███████████████████████████████████████████████████████████████████| 1/1 [00:00<00:00, 28.57it/s]\n",
      "Action: emotion: 100%|███████████████████████████████████████████████████████████████████| 1/1 [00:00<00:00, 28.57it/s]\n",
      "Action: emotion: 100%|███████████████████████████████████████████████████████████████████| 1/1 [00:00<00:00, 29.41it/s]\n",
      "Action: emotion: 100%|███████████████████████████████████████████████████████████████████| 1/1 [00:00<00:00, 31.25it/s]\n",
      "Action: emotion: 100%|███████████████████████████████████████████████████████████████████| 1/1 [00:00<00:00, 31.25it/s]\n",
      "Action: emotion: 100%|███████████████████████████████████████████████████████████████████| 1/1 [00:00<00:00, 27.03it/s]\n",
      "Action: emotion: 100%|███████████████████████████████████████████████████████████████████| 1/1 [00:00<00:00, 31.25it/s]\n",
      "Action: emotion: 100%|███████████████████████████████████████████████████████████████████| 1/1 [00:00<00:00, 31.25it/s]\n",
      "Action: emotion: 100%|███████████████████████████████████████████████████████████████████| 1/1 [00:00<00:00, 31.25it/s]\n",
      "Action: emotion: 100%|███████████████████████████████████████████████████████████████████| 1/1 [00:00<00:00, 31.25it/s]\n",
      "Action: emotion: 100%|███████████████████████████████████████████████████████████████████| 1/1 [00:00<00:00, 31.25it/s]\n",
      "Action: emotion: 100%|███████████████████████████████████████████████████████████████████| 1/1 [00:00<00:00, 30.30it/s]\n",
      "Action: emotion: 100%|███████████████████████████████████████████████████████████████████| 1/1 [00:00<00:00, 29.41it/s]\n",
      "Action: emotion: 100%|███████████████████████████████████████████████████████████████████| 1/1 [00:00<00:00, 32.26it/s]\n",
      "Action: emotion: 100%|███████████████████████████████████████████████████████████████████| 1/1 [00:00<00:00, 27.03it/s]\n",
      "Action: emotion: 100%|███████████████████████████████████████████████████████████████████| 1/1 [00:00<00:00, 31.25it/s]\n",
      "Action: emotion: 100%|███████████████████████████████████████████████████████████████████| 1/1 [00:00<00:00, 31.25it/s]\n",
      "Action: emotion: 100%|███████████████████████████████████████████████████████████████████| 1/1 [00:00<00:00, 30.30it/s]\n",
      "Action: emotion: 100%|███████████████████████████████████████████████████████████████████| 1/1 [00:00<00:00, 30.30it/s]\n",
      "Action: emotion: 100%|███████████████████████████████████████████████████████████████████| 1/1 [00:00<00:00, 30.30it/s]\n",
      "Action: emotion: 100%|███████████████████████████████████████████████████████████████████| 1/1 [00:00<00:00, 31.25it/s]\n",
      "Action: emotion: 100%|███████████████████████████████████████████████████████████████████| 1/1 [00:00<00:00, 30.30it/s]\n",
      "Action: emotion: 100%|███████████████████████████████████████████████████████████████████| 1/1 [00:00<00:00, 28.57it/s]\n",
      "Action: emotion: 100%|███████████████████████████████████████████████████████████████████| 1/1 [00:00<00:00, 25.64it/s]\n",
      "Action: emotion: 100%|███████████████████████████████████████████████████████████████████| 1/1 [00:00<00:00, 30.30it/s]\n",
      "Action: emotion: 100%|███████████████████████████████████████████████████████████████████| 1/1 [00:00<00:00, 30.30it/s]\n",
      "Action: emotion: 100%|███████████████████████████████████████████████████████████████████| 1/1 [00:00<00:00, 30.30it/s]\n",
      "Action: emotion: 100%|███████████████████████████████████████████████████████████████████| 1/1 [00:00<00:00, 28.57it/s]\n"
     ]
    },
    {
     "name": "stderr",
     "output_type": "stream",
     "text": [
      "Action: emotion: 100%|███████████████████████████████████████████████████████████████████| 1/1 [00:00<00:00, 30.31it/s]\n",
      "Action: emotion: 100%|███████████████████████████████████████████████████████████████████| 1/1 [00:00<00:00, 29.41it/s]\n",
      "Action: emotion: 100%|███████████████████████████████████████████████████████████████████| 1/1 [00:00<00:00, 31.25it/s]\n",
      "Action: emotion: 100%|███████████████████████████████████████████████████████████████████| 1/1 [00:00<00:00, 27.03it/s]\n",
      "Action: emotion: 100%|███████████████████████████████████████████████████████████████████| 1/1 [00:00<00:00, 28.57it/s]\n",
      "Action: emotion: 100%|███████████████████████████████████████████████████████████████████| 1/1 [00:00<00:00, 29.41it/s]\n",
      "Action: emotion: 100%|███████████████████████████████████████████████████████████████████| 1/1 [00:00<00:00, 28.57it/s]\n",
      "Action: emotion: 100%|███████████████████████████████████████████████████████████████████| 1/1 [00:00<00:00, 30.30it/s]\n",
      "Action: emotion: 100%|███████████████████████████████████████████████████████████████████| 1/1 [00:00<00:00, 30.30it/s]\n",
      "Action: emotion: 100%|███████████████████████████████████████████████████████████████████| 1/1 [00:00<00:00, 31.25it/s]\n",
      "Action: emotion: 100%|███████████████████████████████████████████████████████████████████| 1/1 [00:00<00:00, 31.25it/s]\n",
      "Action: emotion: 100%|███████████████████████████████████████████████████████████████████| 1/1 [00:00<00:00, 30.30it/s]\n",
      "Action: emotion: 100%|███████████████████████████████████████████████████████████████████| 1/1 [00:00<00:00, 27.03it/s]\n",
      "Action: emotion: 100%|███████████████████████████████████████████████████████████████████| 1/1 [00:00<00:00, 29.41it/s]\n",
      "Action: emotion: 100%|███████████████████████████████████████████████████████████████████| 1/1 [00:00<00:00, 29.41it/s]\n",
      "Action: emotion: 100%|███████████████████████████████████████████████████████████████████| 1/1 [00:00<00:00, 30.30it/s]\n",
      "Action: emotion: 100%|███████████████████████████████████████████████████████████████████| 1/1 [00:00<00:00, 30.30it/s]\n",
      "Action: emotion: 100%|███████████████████████████████████████████████████████████████████| 1/1 [00:00<00:00, 28.57it/s]\n",
      "Action: emotion: 100%|███████████████████████████████████████████████████████████████████| 1/1 [00:00<00:00, 30.30it/s]\n"
     ]
    },
    {
     "name": "stdout",
     "output_type": "stream",
     "text": [
      "MoviePy - Writing audio in testclip.wav\n"
     ]
    },
    {
     "name": "stderr",
     "output_type": "stream",
     "text": [
      "                                                                                                                       \r"
     ]
    },
    {
     "name": "stdout",
     "output_type": "stream",
     "text": [
      "MoviePy - Done.\n",
      "result2:\n",
      "{   'alternative': [   {   'confidence': 0.91296339,\n",
      "                           'transcript': \"nowadays it's huge Benson finishing \"\n",
      "                                         'that I watch this bro morning I '\n",
      "                                         'tried I tried CrossFit now I can '\n",
      "                                         \"pick it up by the way it's someone \"\n",
      "                                         'someone gets it ok is yours oh no'},\n",
      "                       {   'transcript': \"today I'm your grants huge add some \"\n",
      "                                         'finishing that I watch this bro '\n",
      "                                         'morning I tried I tried dragon '\n",
      "                                         'crossbow know I can pick it up by '\n",
      "                                         \"the way it's someone someone gets it \"\n",
      "                                         'ok is yours oh no'},\n",
      "                       {   'transcript': 'damn your grants huge Benson '\n",
      "                                         'finishing that I watch this bro '\n",
      "                                         'morning I tried I tried dragon '\n",
      "                                         'crossbow know I can pick it up by '\n",
      "                                         \"the way it's someone someone gets it \"\n",
      "                                         'ok is yours oh no'},\n",
      "                       {   'transcript': \"today I'm your grants huge Benson \"\n",
      "                                         'finishing that I watch this bro '\n",
      "                                         'morning I tried I tried dragon '\n",
      "                                         'crossbow know I can pick it up by '\n",
      "                                         \"the way it's someone someone gets it \"\n",
      "                                         'ok is yours oh no'},\n",
      "                       {   'transcript': 'a damn your grants huge add some '\n",
      "                                         'finishing that I watch this bro '\n",
      "                                         'morning I tried I tried crossbow '\n",
      "                                         'know I can pick it up by the way '\n",
      "                                         \"it's someone someone gets it ok is \"\n",
      "                                         'yours oh no'}],\n",
      "    'final': True}\n",
      "                                             message    time  neg    neu  \\\n",
      "0                                             !drops  8015.0  0.0  1.000   \n",
      "1               !muspahpet 1/3 Voidwaker gem POGGERS  8015.0  0.0  0.586   \n",
      "2  !editcom !drops !muspahpet 1/3 Voidwaker gem P...  8031.0  0.0  0.662   \n",
      "\n",
      "     pos    comp  \n",
      "0  0.000  0.0000  \n",
      "1  0.414  0.4263  \n",
      "2  0.338  0.6248  \n",
      "{'count1': 0.0, 'neg1': 0.0, 'neu1': 0.0, 'pos1': 0.0, 'comp1': 0.0, 'count2': 0.0, 'neg2': 0.0, 'neu2': 0.0, 'pos2': 0.0, 'comp2': 0.0, 'count3': 0.0, 'neg3': 0.0, 'neu3': 0.0, 'pos3': 0.0, 'comp3': 0.0, 'count4': 0.0, 'neg4': 0.0, 'neu4': 0.0, 'pos4': 0.0, 'comp4': 0.0, 'count5': 0.0, 'neg5': 0.0, 'neu5': 0.0, 'pos5': 0.0, 'comp5': 0.0, 'count6': 0.0, 'neg6': 0.0, 'neu6': 0.0, 'pos6': 0.0, 'comp6': 0.0, 'count7': 0.0, 'neg7': 0.0, 'neu7': 0.0, 'pos7': 0.0, 'comp7': 0.0, 'count8': 1.0, 'neg8': 0.0, 'neu8': 0.5286666666666666, 'pos8': 0.13799999999999998, 'comp8': 0.1421, 'count9': 0.0, 'neg9': 0.0, 'neu9': 0.0, 'pos9': 0.0, 'comp9': 0.0, 'count10': 0.0, 'neg10': 0.0, 'neu10': 0.0, 'pos10': 0.0, 'comp10': 0.0}\n"
     ]
    },
    {
     "name": "stderr",
     "output_type": "stream",
     "text": [
      "Action: emotion: 100%|███████████████████████████████████████████████████████████████████| 1/1 [00:00<00:00, 30.30it/s]\n",
      "Action: emotion: 100%|███████████████████████████████████████████████████████████████████| 1/1 [00:00<00:00, 28.57it/s]\n",
      "Action: emotion: 100%|███████████████████████████████████████████████████████████████████| 1/1 [00:00<00:00, 29.41it/s]\n",
      "Action: emotion: 100%|███████████████████████████████████████████████████████████████████| 1/1 [00:00<00:00, 29.41it/s]\n",
      "Action: emotion: 100%|███████████████████████████████████████████████████████████████████| 1/1 [00:00<00:00, 29.41it/s]\n",
      "Action: emotion: 100%|███████████████████████████████████████████████████████████████████| 1/1 [00:00<00:00, 26.32it/s]\n",
      "Action: emotion: 100%|███████████████████████████████████████████████████████████████████| 1/1 [00:00<00:00, 28.57it/s]\n",
      "Action: emotion: 100%|███████████████████████████████████████████████████████████████████| 1/1 [00:00<00:00, 29.41it/s]\n",
      "Action: emotion: 100%|███████████████████████████████████████████████████████████████████| 1/1 [00:00<00:00, 28.57it/s]\n",
      "Action: emotion: 100%|███████████████████████████████████████████████████████████████████| 1/1 [00:00<00:00, 30.30it/s]\n",
      "Action: emotion: 100%|███████████████████████████████████████████████████████████████████| 1/1 [00:00<00:00, 26.31it/s]\n",
      "Action: emotion: 100%|███████████████████████████████████████████████████████████████████| 1/1 [00:00<00:00, 30.30it/s]\n",
      "Action: emotion: 100%|███████████████████████████████████████████████████████████████████| 1/1 [00:00<00:00, 29.41it/s]\n",
      "Action: emotion: 100%|███████████████████████████████████████████████████████████████████| 1/1 [00:00<00:00, 29.41it/s]\n",
      "Action: emotion: 100%|███████████████████████████████████████████████████████████████████| 1/1 [00:00<00:00, 30.30it/s]\n",
      "Action: emotion: 100%|███████████████████████████████████████████████████████████████████| 1/1 [00:00<00:00, 29.41it/s]\n",
      "Action: emotion: 100%|███████████████████████████████████████████████████████████████████| 1/1 [00:00<00:00, 29.41it/s]\n",
      "Action: emotion: 100%|███████████████████████████████████████████████████████████████████| 1/1 [00:00<00:00, 29.41it/s]\n",
      "Action: emotion: 100%|███████████████████████████████████████████████████████████████████| 1/1 [00:00<00:00, 29.41it/s]\n",
      "Action: emotion: 100%|███████████████████████████████████████████████████████████████████| 1/1 [00:00<00:00, 25.00it/s]\n",
      "Action: emotion: 100%|███████████████████████████████████████████████████████████████████| 1/1 [00:00<00:00, 30.30it/s]\n",
      "Action: emotion: 100%|███████████████████████████████████████████████████████████████████| 1/1 [00:00<00:00, 31.25it/s]\n",
      "Action: emotion: 100%|███████████████████████████████████████████████████████████████████| 1/1 [00:00<00:00, 30.30it/s]\n",
      "Action: emotion: 100%|███████████████████████████████████████████████████████████████████| 1/1 [00:00<00:00, 30.30it/s]\n",
      "Action: emotion: 100%|███████████████████████████████████████████████████████████████████| 1/1 [00:00<00:00, 30.30it/s]\n",
      "Action: emotion: 100%|███████████████████████████████████████████████████████████████████| 1/1 [00:00<00:00, 28.57it/s]\n",
      "Action: emotion: 100%|███████████████████████████████████████████████████████████████████| 1/1 [00:00<00:00, 30.30it/s]\n",
      "Action: emotion: 100%|███████████████████████████████████████████████████████████████████| 1/1 [00:00<00:00, 27.78it/s]\n",
      "Action: emotion: 100%|███████████████████████████████████████████████████████████████████| 1/1 [00:00<00:00, 29.41it/s]\n",
      "Action: emotion: 100%|███████████████████████████████████████████████████████████████████| 1/1 [00:00<00:00, 30.30it/s]\n",
      "Action: emotion: 100%|███████████████████████████████████████████████████████████████████| 1/1 [00:00<00:00, 29.41it/s]\n"
     ]
    },
    {
     "name": "stdout",
     "output_type": "stream",
     "text": [
      "MoviePy - Writing audio in testclip.wav\n"
     ]
    },
    {
     "name": "stderr",
     "output_type": "stream",
     "text": [
      "                                                                                                                       \r"
     ]
    },
    {
     "name": "stdout",
     "output_type": "stream",
     "text": [
      "MoviePy - Done.\n",
      "result2:\n",
      "{   'alternative': [   {   'confidence': 0.9215126,\n",
      "                           'transcript': 'YouTube club morning I will be on '\n",
      "                                         'YouTube eventually enough and that '\n",
      "                                         'somebody could there on a video of '\n",
      "                                         'somebody wants to go and clip it for '\n",
      "                                         'me the current streaming just going '\n",
      "                                         'to become'},\n",
      "                       {   'transcript': 'YouTube club morning I will be on '\n",
      "                                         'YouTube eventually enough and let '\n",
      "                                         'somebody could there on a video of '\n",
      "                                         'somebody wants to go in clip it for '\n",
      "                                         'me the current streaming just going '\n",
      "                                         'to become'},\n",
      "                       {   'transcript': 'YouTube club morning I will be on '\n",
      "                                         'YouTube eventually enough and that '\n",
      "                                         'somebody could there on a video of '\n",
      "                                         'somebody wants to go in clip it for '\n",
      "                                         'me the current streaming just going '\n",
      "                                         'to become'},\n",
      "                       {   'transcript': 'YouTube club morning I will be on '\n",
      "                                         'YouTube eventually enough and that '\n",
      "                                         'somebody could there on a video of '\n",
      "                                         'somebody wants to go in clip it for '\n",
      "                                         'me current streaming just going to '\n",
      "                                         'become'},\n",
      "                       {   'transcript': 'YouTube club morning I will be on '\n",
      "                                         'YouTube eventually enough and that '\n",
      "                                         'somebody could there on a video of '\n",
      "                                         'somebody wants to go in clip it for '\n",
      "                                         'me current streaming just going '\n",
      "                                         'clip'}],\n",
      "    'final': True}\n",
      "                                             message    time    neg    neu  \\\n",
      "0                                           im aware  2947.0  0.000  1.000   \n",
      "1                                               sick  2953.0  1.000  0.000   \n",
      "2                                               damn  2954.0  1.000  0.000   \n",
      "3  Please clip every time I die and whisper it to...  2963.0  0.126  0.615   \n",
      "4                                       that xp drop  2970.0  0.368  0.175   \n",
      "\n",
      "     pos    comp  \n",
      "0  0.000  0.0000  \n",
      "1  0.000 -0.5106  \n",
      "2  0.000 -0.4019  \n",
      "3  0.259  0.4767  \n",
      "4  0.456  0.1280  \n",
      "{'count1': 0.0, 'neg1': 0.0, 'neu1': 0.0, 'pos1': 0.0, 'comp1': 0.0, 'count2': 0.0, 'neg2': 0.0, 'neu2': 0.0, 'pos2': 0.0, 'comp2': 0.0, 'count3': 0.25, 'neg3': 0.0, 'neu3': 0.3333333333333333, 'pos3': 0.0, 'comp3': 0.0, 'count4': 0.0, 'neg4': 0.0, 'neu4': 0.0, 'pos4': 0.0, 'comp4': 0.0, 'count5': 0.5, 'neg5': 0.6666666666666666, 'neu5': 0.0, 'pos5': 0.0, 'comp5': -0.3041666666666667, 'count6': 0.0, 'neg6': 0.0, 'neu6': 0.0, 'pos6': 0.0, 'comp6': 0.0, 'count7': 0.0, 'neg7': 0.0, 'neu7': 0.0, 'pos7': 0.0, 'comp7': 0.0, 'count8': 0.25, 'neg8': 0.042, 'neu8': 0.205, 'pos8': 0.08633333333333333, 'comp8': 0.1589, 'count9': 0.0, 'neg9': 0.0, 'neu9': 0.0, 'pos9': 0.0, 'comp9': 0.0, 'count10': 0.0, 'neg10': 0.0, 'neu10': 0.0, 'pos10': 0.0, 'comp10': 0.0}\n"
     ]
    },
    {
     "name": "stderr",
     "output_type": "stream",
     "text": [
      "Action: emotion: 100%|███████████████████████████████████████████████████████████████████| 1/1 [00:00<00:00, 29.41it/s]\n",
      "Action: emotion: 100%|███████████████████████████████████████████████████████████████████| 1/1 [00:00<00:00, 28.57it/s]\n",
      "Action: emotion: 100%|███████████████████████████████████████████████████████████████████| 1/1 [00:00<00:00, 28.57it/s]\n",
      "Action: emotion: 100%|███████████████████████████████████████████████████████████████████| 1/1 [00:00<00:00, 31.25it/s]\n",
      "Action: emotion: 100%|███████████████████████████████████████████████████████████████████| 1/1 [00:00<00:00, 27.78it/s]\n",
      "Action: emotion: 100%|███████████████████████████████████████████████████████████████████| 1/1 [00:00<00:00, 29.41it/s]\n",
      "Action: emotion: 100%|███████████████████████████████████████████████████████████████████| 1/1 [00:00<00:00, 29.41it/s]\n",
      "Action: emotion: 100%|███████████████████████████████████████████████████████████████████| 1/1 [00:00<00:00, 29.41it/s]\n",
      "Action: emotion: 100%|███████████████████████████████████████████████████████████████████| 1/1 [00:00<00:00, 30.30it/s]\n",
      "Action: emotion: 100%|███████████████████████████████████████████████████████████████████| 1/1 [00:00<00:00, 30.30it/s]\n",
      "Action: emotion: 100%|███████████████████████████████████████████████████████████████████| 1/1 [00:00<00:00, 27.78it/s]\n",
      "Action: emotion: 100%|███████████████████████████████████████████████████████████████████| 1/1 [00:00<00:00, 30.30it/s]\n",
      "Action: emotion: 100%|███████████████████████████████████████████████████████████████████| 1/1 [00:00<00:00, 30.30it/s]\n",
      "Action: emotion: 100%|███████████████████████████████████████████████████████████████████| 1/1 [00:00<00:00, 26.32it/s]\n",
      "Action: emotion: 100%|███████████████████████████████████████████████████████████████████| 1/1 [00:00<00:00, 29.41it/s]\n",
      "Action: emotion: 100%|███████████████████████████████████████████████████████████████████| 1/1 [00:00<00:00, 28.57it/s]\n",
      "Action: emotion: 100%|███████████████████████████████████████████████████████████████████| 1/1 [00:00<00:00, 28.57it/s]\n",
      "Action: emotion: 100%|███████████████████████████████████████████████████████████████████| 1/1 [00:00<00:00, 29.41it/s]\n",
      "Action: emotion: 100%|███████████████████████████████████████████████████████████████████| 1/1 [00:00<00:00, 29.41it/s]\n",
      "Action: emotion: 100%|███████████████████████████████████████████████████████████████████| 1/1 [00:00<00:00, 28.57it/s]\n",
      "Action: emotion: 100%|███████████████████████████████████████████████████████████████████| 1/1 [00:00<00:00, 29.41it/s]\n",
      "Action: emotion: 100%|███████████████████████████████████████████████████████████████████| 1/1 [00:00<00:00, 29.41it/s]\n",
      "Action: emotion: 100%|███████████████████████████████████████████████████████████████████| 1/1 [00:00<00:00, 27.03it/s]\n",
      "Action: emotion: 100%|███████████████████████████████████████████████████████████████████| 1/1 [00:00<00:00, 27.78it/s]\n",
      "Action: emotion: 100%|███████████████████████████████████████████████████████████████████| 1/1 [00:00<00:00, 27.78it/s]\n",
      "Action: emotion: 100%|███████████████████████████████████████████████████████████████████| 1/1 [00:00<00:00, 30.30it/s]\n",
      "Action: emotion: 100%|███████████████████████████████████████████████████████████████████| 1/1 [00:00<00:00, 30.30it/s]\n",
      "Action: emotion: 100%|███████████████████████████████████████████████████████████████████| 1/1 [00:00<00:00, 29.41it/s]\n",
      "Action: emotion: 100%|███████████████████████████████████████████████████████████████████| 1/1 [00:00<00:00, 29.41it/s]\n"
     ]
    },
    {
     "name": "stdout",
     "output_type": "stream",
     "text": [
      "MoviePy - Writing audio in testclip.wav\n"
     ]
    },
    {
     "name": "stderr",
     "output_type": "stream",
     "text": [
      "                                                                                                                       \r"
     ]
    },
    {
     "name": "stdout",
     "output_type": "stream",
     "text": [
      "MoviePy - Done.\n"
     ]
    }
   ],
   "source": [
    "# assign directory\n",
    "directory = './Clips'\n",
    "clipIndex = 0\n",
    "for filename in os.listdir(directory):\n",
    "    f = os.path.join(directory, filename)\n",
    "    # checking if it is a file\n",
    "    if os.path.isfile(f):\n",
    "        if f.endswith('.mp4'):\n",
    "            clipPath = f\n",
    "            df,data = pullClipChat(f[:-3]+'json')\n",
    "            df = chatSentiment(df)\n",
    "            print(df)\n",
    "            df = fillEmptyChat(df,data)\n",
    "            df = cumulativeGenerate(df)\n",
    "            df = percentageCount(df)\n",
    "            completedClipDict = cumulativeDivision(df)\n",
    "            faceEmotionDf = emotionDetection(clipPath)\n",
    "            completedClipDict = emotionDivision(faceEmotionDf,completedClipDict)\n",
    "            completedClipDict = audioSentiment(completedClipDict,clipPath)\n",
    "            duration = getStreamData(data,completedClipDict,f)\n",
    "            completedClipDict = getLoudness(completedClipDict)\n",
    "            if clipIndex ==0:\n",
    "                fDf = pd.DataFrame(completedClipDict,index=[clipIndex])\n",
    "            else:\n",
    "                fDf = fDf.append(completedClipDict,ignore_index=True)\n",
    "            clipIndex = clipIndex+1"
   ]
  },
  {
   "cell_type": "code",
   "execution_count": null,
   "metadata": {
    "scrolled": false
   },
   "outputs": [],
   "source": [
    "duration"
   ]
  },
  {
   "cell_type": "code",
   "execution_count": null,
   "metadata": {
    "scrolled": true
   },
   "outputs": [],
   "source": [
    "print(completedClipDict)"
   ]
  },
  {
   "cell_type": "code",
   "execution_count": null,
   "metadata": {
    "scrolled": false
   },
   "outputs": [],
   "source": [
    "fDf"
   ]
  },
  {
   "cell_type": "code",
   "execution_count": null,
   "metadata": {
    "scrolled": true
   },
   "outputs": [],
   "source": [
    "tester = fDf.streamer.unique()"
   ]
  },
  {
   "cell_type": "code",
   "execution_count": null,
   "metadata": {},
   "outputs": [],
   "source": [
    "fDf = fDf.sort_values(by='streamer')"
   ]
  },
  {
   "cell_type": "code",
   "execution_count": null,
   "metadata": {
    "scrolled": true
   },
   "outputs": [],
   "source": [
    "for i in range(0, len(tester)):\n",
    "    percentageViews = []\n",
    "    percentageLoudness = []\n",
    "    tempDf = fDf.loc[fDf[\"streamer\"]==tester[i]]\n",
    "    maxLoud = tempDf[\"loudness\"].min()\n",
    "    maxViews = tempDf[\"views\"].max()\n",
    "    for index, row in tempDf.iterrows(): \n",
    "        percentageViews.append(tempDf[\"views\"][index]/maxViews)\n",
    "        percentageLoudness.append(tempDf[\"loudness\"][index]/maxLoud)\n",
    "    tempDf[\"percentageViews\"] = percentageViews\n",
    "    tempDf[\"percentageLoud\"] = percentageLoudness\n",
    "    tempDf = tempDf.drop(columns = [\"loudness\",\"views\",\"streamer\"])\n",
    "    if i == 0:\n",
    "        completedDf = tempDf\n",
    "    else:\n",
    "        completedDf = completedDf.append(tempDf)"
   ]
  },
  {
   "cell_type": "code",
   "execution_count": null,
   "metadata": {
    "scrolled": false
   },
   "outputs": [],
   "source": [
    "completedDf"
   ]
  },
  {
   "cell_type": "code",
   "execution_count": null,
   "metadata": {
    "scrolled": false
   },
   "outputs": [],
   "source": [
    "completedDf.reset_index(drop=True, inplace=True)"
   ]
  },
  {
   "cell_type": "code",
   "execution_count": null,
   "metadata": {
    "scrolled": false
   },
   "outputs": [],
   "source": [
    "print(completedDf.iloc[5])"
   ]
  },
  {
   "cell_type": "code",
   "execution_count": null,
   "metadata": {
    "scrolled": true
   },
   "outputs": [],
   "source": [
    "\n",
    "fDf.sort_values(by='streamer')"
   ]
  },
  {
   "cell_type": "code",
   "execution_count": null,
   "metadata": {
    "scrolled": true
   },
   "outputs": [],
   "source": []
  },
  {
   "cell_type": "code",
   "execution_count": null,
   "metadata": {
    "scrolled": true
   },
   "outputs": [],
   "source": []
  },
  {
   "cell_type": "code",
   "execution_count": null,
   "metadata": {
    "scrolled": true
   },
   "outputs": [],
   "source": [
    "pd. set_option('display.max_columns', 500)"
   ]
  },
  {
   "cell_type": "code",
   "execution_count": null,
   "metadata": {
    "scrolled": true
   },
   "outputs": [],
   "source": []
  },
  {
   "cell_type": "code",
   "execution_count": null,
   "metadata": {},
   "outputs": [],
   "source": []
  },
  {
   "cell_type": "code",
   "execution_count": null,
   "metadata": {},
   "outputs": [],
   "source": []
  },
  {
   "cell_type": "code",
   "execution_count": null,
   "metadata": {},
   "outputs": [],
   "source": []
  }
 ],
 "metadata": {
  "kernelspec": {
   "display_name": "Python 3 (ipykernel)",
   "language": "python",
   "name": "python3"
  },
  "language_info": {
   "codemirror_mode": {
    "name": "ipython",
    "version": 3
   },
   "file_extension": ".py",
   "mimetype": "text/x-python",
   "name": "python",
   "nbconvert_exporter": "python",
   "pygments_lexer": "ipython3",
   "version": "3.9.7"
  }
 },
 "nbformat": 4,
 "nbformat_minor": 2
}
